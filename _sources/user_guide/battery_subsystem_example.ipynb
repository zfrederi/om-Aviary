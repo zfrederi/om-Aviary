{
 "cells": [
  {
   "cell_type": "markdown",
   "metadata": {},
   "source": [
    "# In-depth look at the battery subsystem as an example\n",
    "\n",
    "## Examining the battery as an example case\n",
    "\n",
    "Let's take a look at how to integrate an external subsystem into Aviary using the example of a battery model.\n",
    "This battery model and builder are provided in the `aviary/examples/external_subsystems` folder.\n",
    "\n",
    "We'll show you how to define the builder object, how to specify the pre-mission and mission models, and how to implement the interface methods.\n",
    "In each of these methods, we've removed the initial docstring to increase readability on this page.\n",
    "The [`battery_builder.py`](https://github.com/OpenMDAO/om-Aviary/blob/main/aviary/examples/external_subsystems/battery/battery_builder.py) file contains the original methods and docstrings.\n",
    "Please see that file if you want to examine this example builder in its entirety as one file.\n",
    "\n",
    "You can define these methods in any order you want within your subsystem builder and Aviary will use them at the appropriate times during analysis and optimization.\n",
    "All of these methods must be defined by the subsystem builder creator, if that's you or one of your collaborators.\n",
    "\n",
    "This battery example is just that -- a singular example of the types of external subsystems that Aviary can include.\n",
    "We don't expect the full complexity of all disciplines' systems to be reflected in this example, so please keep that in mind when viewing these example methods."
   ]
  },
  {
   "cell_type": "markdown",
   "metadata": {},
   "source": [
    "## Defining the builder object\n",
    "\n",
    "The first step is to define a builder object for your external subsystem.\n",
    "This class extends the `SubsystemBuilderBase` class and provides implementations for all of the interface methods that Aviary requires.\n",
    "\n",
    "```{note}\n",
    "Throughout this doc page we add methods to the builder class in different sections.\n",
    "This is just for readability on this page and you could easily define all of these methods in one place in your builder class.\n",
    "```"
   ]
  },
  {
   "cell_type": "code",
   "execution_count": null,
   "metadata": {},
   "outputs": [],
   "source": [
    "import aviary.api as av\n",
    "from aviary.examples.external_subsystems.battery.model.battery_premission import BatteryPreMission\n",
    "from aviary.examples.external_subsystems.battery.model.battery_mission import BatteryMission\n",
    "from aviary.examples.external_subsystems.battery.battery_variables import Aircraft, Mission\n",
    "from aviary.examples.external_subsystems.battery.battery_variable_meta_data import ExtendedMetaData\n",
    "\n",
    "\n",
    "class BatteryBuilder(av.SubsystemBuilderBase):\n",
    "    def __init__(self, name='battery', include_constraints=True):\n",
    "        self.include_constraints = include_constraints\n",
    "        super().__init__(name, meta_data=ExtendedMetaData)"
   ]
  },
  {
   "cell_type": "markdown",
   "metadata": {},
   "source": [
    "## Defining the variables of interest: states, controls, constraints, etc\n",
    "\n",
    "First, we'll cover how to tell Aviary which variables are states that you want to integrate throughout the mission.\n",
    "The battery subsystem has two states: SOC (state of charge) and Thevenin voltage.\n",
    "Both of these states are described below using their variable hierarchy name, then a dictionary that tells Aviary any arguments that are passed to the Dymos `add_state` command.\n",
    "You can use any arguments that the `add_state` command accepts here, including `ref`s, `bound`s, `solve_segments`, and more.\n",
    "Please see the [Dymos docs for states](https://openmdao.github.io/dymos/features/phases/variables.html#states) for a table of all the available input args."
   ]
  },
  {
   "cell_type": "code",
   "execution_count": null,
   "metadata": {},
   "outputs": [],
   "source": [
    "class BatteryBuilder(BatteryBuilder):\n",
    "    def get_states(self):\n",
    "        states_dict = {\n",
    "            Mission.Battery.STATE_OF_CHARGE: {\n",
    "                'rate_source': Mission.Battery.STATE_OF_CHARGE_RATE,\n",
    "                'fix_initial': True,\n",
    "            },\n",
    "            Mission.Battery.VOLTAGE_THEVENIN: {\n",
    "                'units': 'V',\n",
    "                'rate_source': Mission.Battery.VOLTAGE_THEVENIN_RATE,\n",
    "                'defect_ref': 1.e5,\n",
    "                'ref': 1.e5,\n",
    "            },\n",
    "        }\n",
    "\n",
    "        return states_dict"
   ]
  },
  {
   "cell_type": "markdown",
   "metadata": {},
   "source": [
    "We have similar methods for each of constraints, parameters, and design variables.\n",
    "\n",
    "For the constraints, you provide the name of the variable you want to constrain as the key in a dictionary.\n",
    "Then the values for each one of these keys is a dictionary of kwargs that can be passed to the [Dymos `add_constraint()` method](https://openmdao.github.io/dymos/features/phases/constraints.html#constraints).\n",
    "The example for the battery shows that we have a final boundary constraint on the state of charge being above 0.2 as well as a path constraint on the Thevenin voltage.\n",
    "\n",
    "```{note}\n",
    "The constraint dicts used in Aviary require one additional kwarg on top of those needed by Dymos: the `type` argument. You must specify your constraint as either a `boundary` or `path` constraint.\n",
    "```"
   ]
  },
  {
   "cell_type": "code",
   "execution_count": null,
   "metadata": {},
   "outputs": [],
   "source": [
    "class BatteryBuilder(BatteryBuilder):\n",
    "    def get_constraints(self):\n",
    "        if self.include_constraints:\n",
    "            constraints = {\n",
    "                Mission.Battery.STATE_OF_CHARGE: {\n",
    "                    'lower': 0.2,\n",
    "                    'type': 'boundary',\n",
    "                    'loc': 'final',\n",
    "                },\n",
    "                Mission.Battery.VOLTAGE_THEVENIN: {\n",
    "                    'lower': 0,\n",
    "                    'type': 'path',\n",
    "                },\n",
    "            }\n",
    "        else:\n",
    "            constraints = {}\n",
    "\n",
    "        return constraints"
   ]
  },
  {
   "cell_type": "markdown",
   "metadata": {},
   "source": [
    "Next up we have any parameters added to the phase from the external subsystem.\n",
    "[Parameters in the Dymos sense](https://openmdao.github.io/dymos/features/phases/variables.html#parameters) are non-time-varying inputs since they typically involve fixed-value variables within a phase which define a system.\n",
    "These are fixed across a phase or trajectory, but can be controlled by the optimizer.\n",
    "For the simple battery case here we're setting the operating temperature of the battery to be fixed at a certain value."
   ]
  },
  {
   "cell_type": "code",
   "execution_count": null,
   "metadata": {},
   "outputs": [],
   "source": [
    "class BatteryBuilder(BatteryBuilder):\n",
    "    def get_parameters(self):\n",
    "        parameters_dict = {\n",
    "            Mission.Battery.TEMPERATURE: {'val': 25.0, 'units': 'degC'},\n",
    "            Mission.Battery.CURRENT: {'val': 3.25, 'units': 'A'}\n",
    "        }\n",
    "\n",
    "        return parameters_dict"
   ]
  },
  {
   "cell_type": "markdown",
   "metadata": {},
   "source": [
    "If you want to add high-level design variables to your external subsystem that are not exposed at the phase level, you can do so by creating a method that describes your desired design variables.\n",
    "This method is called `get_design_vars`.\n",
    "There might be calculations at the pre-mission level that necessitate using this method to allow the optimizer to control high-level sizing variables.\n",
    "In the simple battery case, we allow the optimizer to control the energy capacity of the battery, effectively sizing it."
   ]
  },
  {
   "cell_type": "code",
   "execution_count": null,
   "metadata": {},
   "outputs": [],
   "source": [
    "class BatteryBuilder(BatteryBuilder):\n",
    "    def get_design_vars(self):\n",
    "        DVs = {\n",
    "            Aircraft.Battery.Cell.DISCHARGE_RATE: {\n",
    "                'units': 'A',\n",
    "                'lower': 0.0,\n",
    "                'upper': 1.0,\n",
    "            },\n",
    "        }\n",
    "\n",
    "        return DVs"
   ]
  },
  {
   "cell_type": "markdown",
   "metadata": {},
   "source": [
    "## Defining the OpenMDAO systems needed\n",
    "\n",
    "Next up, we have the two methods for getting the mission and pre-mission models, `get_mission` and `get_pre_mission`, respectively.\n",
    "When you define these methods they should return OpenMDAO Systems ([groups](https://openmdao.org/newdocs/versions/latest/_srcdocs/packages/core/group.html) or [components](https://openmdao.org/newdocs/versions/latest/_srcdocs/packages/core/component.html)) that represent the mission and pre-mission subsystems of the external model.\n",
    "Please see the [OpenMDAO docs on creating a simple component](https://openmdao.org/newdocs/versions/latest/basic_user_guide/single_disciplinary_optimization/first_analysis.html) for more information on how to create OpenMDAO systems.\n",
    "In short, an OpenMDAO System takes in input variables, does some calculations, and returns output variables.\n",
    "If you have an analysis or design code, you can wrap it in an OpenMDAO System even if it's not Python-based; [this doc page](https://openmdao.org/newdocs/versions/latest/other_useful_docs/file_wrap.html) goes into more detail about that. \n",
    "\n",
    "In the case of the battery model, the pre-mission System is very simple -- it's just a single component with no special setup or arguments.\n",
    "As such, the method definition looks like this:"
   ]
  },
  {
   "cell_type": "code",
   "execution_count": null,
   "metadata": {},
   "outputs": [],
   "source": [
    "class BatteryBuilder(BatteryBuilder):\n",
    "    def build_pre_mission(self, aviary_inputs):\n",
    "        return BatteryPreMission()"
   ]
  },
  {
   "cell_type": "markdown",
   "metadata": {},
   "source": [
    "That's pretty straightforward.\n",
    "The `build_pre_mission` method requires the `aviary_inputs` object (an instantiation of an `AviaryValues` object).\n",
    "This battery example does not use any information from `aviary_inputs`.\n",
    "The pre-mission builder can then use the data and options within the `aviary_inputs` object to construct the OpenMDAO System using user-specified logic.\n",
    "\n",
    "Now we'll discuss arguably the most important method needed when making external subsystems (though they're all important): `build_mission`.\n",
    "This method returns an OpenMDAO System that provides all computations needed during the mission.\n",
    "This includes computing state rates so that the mission integration code can compute the state values and obtain the corresponding performance of the aircraft.\n",
    "\n",
    "For the battery case, we have a nicely packaged `BatteryMission` System, so our method looks like this:"
   ]
  },
  {
   "cell_type": "code",
   "execution_count": null,
   "metadata": {},
   "outputs": [],
   "source": [
    "class BatteryBuilder(BatteryBuilder):\n",
    "    def build_mission(self, num_nodes, aviary_inputs):\n",
    "        return BatteryMission(num_nodes=num_nodes, aviary_inputs=aviary_inputs)"
   ]
  },
  {
   "cell_type": "markdown",
   "metadata": {},
   "source": [
    "Note that `build_mission` requires both `num_nodes` and `aviary_inputs` as arguments.\n",
    "`num_nodes` is needed to correctly set up all the vectors within your mission subsystem, whereas `aviary_inputs` helps provide necessary options for the subsystem."
   ]
  },
  {
   "cell_type": "markdown",
   "metadata": {},
   "source": [
    "## Defining helper methods, like preprocessing, initial guessing, and linking\n",
    "\n",
    "Next up we have some helper methods that allow us to preprocess the user-provided inputs, link different phases' variables, and provide initial guesses.\n",
    "\n",
    "Let's talk about preprocessing your inputs.\n",
    "You might want to have some logic that sets different values in your problem based on user-provided options.\n",
    "`preprocess_inputs` allows you to do this.\n",
    "It occurs between `load_inputs` and `build_pre_mission` in the Aviary stack, so after the initial data inputs are loaded but before they're used to instantiate any OpenMDAO models.\n",
    "This is a great place to set any values you need for variables within your subsystem.\n",
    "\n",
    "```{note}\n",
    "For both users and developers: `preprocess_inputs` happens **once** per analysis or optimization run, just like loading the inputs. It does not occur as part of an OpenMDAO system, so it does not get iterated over during the optimization process.\n",
    "```\n",
    "\n",
    "You can have calculations or checks you need in this method based on user inputs.\n",
    "\n",
    "Now you may want to link some variables between phases.\n",
    "States, for example, are usually great candidates for linking.\n",
    "In the case of the battery example, if we have a climb and then a cruise phase, we'd want to connect the state-of-charge and voltage states so the end of climb is equal to the beginning of cruise.\n",
    "Thus, our `get_linked_variables` method looks like this:"
   ]
  },
  {
   "cell_type": "code",
   "execution_count": null,
   "metadata": {},
   "outputs": [],
   "source": [
    "class BatteryBuilder(BatteryBuilder):\n",
    "    def get_linked_variables(self):\n",
    "        '''\n",
    "        Return the list of linked variables for the battery subsystem; in this case\n",
    "        it's our two state variables.\n",
    "        '''\n",
    "        return [Mission.Battery.VOLTAGE_THEVENIN, Mission.Battery.STATE_OF_CHARGE]"
   ]
  },
  {
   "cell_type": "markdown",
   "metadata": {},
   "source": [
    "The last method we'll discuss here is `get_initial_guesses`.\n",
    "This method allows you to return info for any variable you want to provide an initial guess for.\n",
    "Depending on the integration method you're using, initial guesses may greatly help convergence of your optimization problem.\n",
    "Collocation methods especially benefit from good initial guesses.\n",
    "\n",
    "For this battery example we simply define some initial guesses for the state variables.\n",
    "If we wanted to give other initial guesses we could specify their `type` in the dictionary accordingly.\n",
    "These values apply to all nodes across the mission, e.g. each node gets the same value guess. "
   ]
  },
  {
   "cell_type": "code",
   "execution_count": null,
   "metadata": {},
   "outputs": [],
   "source": [
    "class BatteryBuilder(BatteryBuilder):\n",
    "    def get_initial_guesses(self):\n",
    "        initial_guess_dict = {\n",
    "            Mission.Battery.STATE_OF_CHARGE: {\n",
    "                'val': 1.0,\n",
    "                'type': 'state',\n",
    "            },\n",
    "            Mission.Battery.VOLTAGE_THEVENIN: {\n",
    "                'val': 5.0,\n",
    "                'units': 'V',\n",
    "                'type': 'state',\n",
    "            },\n",
    "        }\n",
    "\n",
    "        return initial_guess_dict"
   ]
  },
  {
   "cell_type": "markdown",
   "metadata": {},
   "source": [
    "## Extending the variable hierarchy\n",
    "\n",
    "You might've noticed throughout this battery example that we've extended the core variable hierarchy included in Aviary to add variables needed for the battery system.\n",
    "To handle additional variables not already defined in Aviary, you can define an extension to the available variables.\n",
    "By following the same naming convention present through Aviary, specifically that variables start with `aircraft` and `mission`, these can be correctly handled by the Aviary tool.\n",
    "\n",
    "<!-- TODO: This section needs much more verbosity and detail! -->"
   ]
  },
  {
   "cell_type": "markdown",
   "metadata": {},
   "source": [
    "## Testing your implementation\n",
    "\n",
    "Once you have written your external subsystem code and built your own subsystem class, you can test your implementation using a built-in tool.\n",
    "We provide a set of unit tests that accept a user-defined subsystem and check that the outputs from the methods match what Aviary expects.\n",
    "If the user-defined methods do not return the correct form of the data, the test raises appropriate exceptions and explains which arguments are missing.\n",
    "\n",
    "By running these tests on their own subsystem, users can ensure that their code meets the requirements and standards set by the aviary package.\n",
    "Specifically, the tests can help users check that their subsystem's inputs and outputs are correct and consistent with the expected format, even before running an Aviary mission.\n",
    "\n",
    "This test works by inheriting from a base class that loops through each of the methods and tests the outputs.\n",
    "All you'd have to do is provide your builder object as well as the `aviary_inputs` object needed to for the methods in the builder object.\n",
    "\n",
    "Here's an example of the full code that you would write to test the battery builder.\n",
    "Although there are no unit tests explicitly shown in this file, they are contained in the `TestSubsystemBuilderBase` class, so you only need these few lines to test your subsystem."
   ]
  },
  {
   "cell_type": "code",
   "execution_count": null,
   "metadata": {},
   "outputs": [],
   "source": [
    "import unittest\n",
    "\n",
    "\n",
    "class TestBattery(av.TestSubsystemBuilderBase):\n",
    "\n",
    "    def setUp(self):\n",
    "        self.subsystem_builder = BatteryBuilder()\n",
    "        self.aviary_values = av.AviaryValues()"
   ]
  },
  {
   "cell_type": "markdown",
   "metadata": {},
   "source": [
    "For instance, if you saved this class in a file called `test_battery.py`, you could then run `testflo test_battery.py` to verify that all the methods do what Aviary expects.\n",
    "If everything is good with your model you'll see output in your terminal like this:\n",
    "\n",
    "```bash\n",
    "(dev) $ testflo test_battery.py\n",
    "......................................\n",
    "\n",
    "OK\n",
    "\n",
    "Passed:  40\n",
    "Failed:  0\n",
    "Skipped: 0\n",
    "\n",
    "\n",
    "Ran 40 tests using 192 processes\n",
    "Wall clock time:   00:00:15.20\n",
    "```\n",
    "\n",
    "If you just want to run the code in this notebook, you can run the following:"
   ]
  },
  {
   "cell_type": "code",
   "execution_count": null,
   "metadata": {},
   "outputs": [],
   "source": [
    "unittest.main(argv=[''], verbosity=2, exit=False)\n"
   ]
  },
  {
   "cell_type": "markdown",
   "metadata": {},
   "source": [
    "If something's wrong with your builder, this test should tell you which method is out of spec and how you can fix it.\n",
    "For example, here I've purposefully made the battery builder have some incorrect behavior and reran the test."
   ]
  },
  {
   "cell_type": "code",
   "execution_count": null,
   "metadata": {},
   "outputs": [],
   "source": [
    "class BatteryBuilder(BatteryBuilder):\n",
    "    def get_constraints(self):\n",
    "        if self.include_constraints:\n",
    "            constraints = {\n",
    "                Mission.Battery.STATE_OF_CHARGE: {\n",
    "                    'lower': 0.2,\n",
    "                    'loc': 'final',\n",
    "                },\n",
    "                Mission.Battery.VOLTAGE_THEVENIN: {\n",
    "                    'lower': 0,\n",
    "                    'type': 'path',\n",
    "                },\n",
    "            }\n",
    "        else:\n",
    "            constraints = {}\n",
    "\n",
    "        return constraints\n",
    "    \n",
    "class BatteryBuilder(BatteryBuilder):\n",
    "    def get_states(self):\n",
    "        states_dict = {\n",
    "            Mission.Battery.STATE_OF_CHARGE: {\n",
    "                'rate_source': Mission.Battery.STATE_OF_CHARGE_RATE,\n",
    "                'fix_initial': True,\n",
    "            },\n",
    "            'amps' : 6,\n",
    "        }\n",
    "\n",
    "        return states_dict\n",
    "    \n",
    "class TestBattery(av.TestSubsystemBuilderBase):\n",
    "\n",
    "    def setUp(self):\n",
    "        self.subsystem_builder = BatteryBuilder()\n",
    "        self.aviary_values = av.AviaryValues()\n",
    "\n",
    "unittest.main(argv=[''], exit=False)\n"
   ]
  },
  {
   "cell_type": "markdown",
   "metadata": {},
   "source": [
    "The output is a bit verbose, but tells you which methods are incorrect and why.\n",
    "For example, here the `get_states` method returned a dict that included a key (`'amps'`) with a value of 6 instead of being a dictionary as expected.\n",
    "In the `get_constraints` method, a constraint was added to the dictionary but did not include a `type` key, which is required as stated by the error message.\n",
    "\n",
    "If you encounter an error when using your subsystem, but the test here did not find it, please let the Aviary dev team know!\n",
    "We'd love to hear from you on the [GitHub issues page](https://github.com/OpenMDAO/om-Aviary/issues) so we can help everyone write great external subsystems."
   ]
  }
 ],
 "metadata": {
  "kernelspec": {
   "display_name": "Python 3",
   "language": "python",
   "name": "python3"
  },
  "language_info": {
   "codemirror_mode": {
    "name": "ipython",
    "version": 3
   },
   "file_extension": ".py",
   "mimetype": "text/x-python",
   "name": "python",
   "nbconvert_exporter": "python",
   "pygments_lexer": "ipython3",
   "version": "3.8.17"
  }
 },
 "nbformat": 4,
 "nbformat_minor": 2
}
