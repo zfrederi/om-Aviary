{
 "cells": [
  {
   "cell_type": "markdown",
   "metadata": {},
   "source": [
    "<!-- Work in progress... -->\n",
    "# Aerodynamics Subsystem\n",
    "\n",
    "The built-in aerodynamics subsystem in Aviary offers multiple options for computing drag. Users can select from methods based on the FLOPS or GASP legacy codes. Choice of which legacy code's routines to use is determined by the `code_origin` option provided when initializing a `CoreAerodynamicsBuilder`. When using Aviary's [Level 1 interface](../getting_started/onboarding_level1.ipynb), the code origin for aerodynamics is automatically set to match with the mission method (height-energy is paired with FLOPS, and 2-degree-of-freedom is paired with GASP). Future updates to Aviary will allow for the user to specify aerodynamics code origin directly in the input file."
   ]
  },
  {
   "cell_type": "code",
   "execution_count": null,
   "metadata": {},
   "outputs": [],
   "source": [
    "from aviary.api import CoreAerodynamicsBuilder, LegacyCode\n",
    "\n",
    "aero_builder = CoreAerodynamicsBuilder(name='aero_example', code_origin=LegacyCode.FLOPS)"
   ]
  },
  {
   "cell_type": "markdown",
   "metadata": {},
   "source": [
    "Both FLOPS and GASP methods have only a single option for pre-mission components, so there are no user-configurable options when calling `CoreAerodynamicsBuilder.build_pre_mission()`.\n",
    "\n",
    "For mission analysis, a variety of methods are available to both legacy codes, each with unique options. This can be configured per-mission segment in a `phase_info` file, with relevant aerodynamics configurations placed inside `<phase_name>['core_subsystems']`. The following example would instruct Aviary to send the defined options to a subsystem named 'aero_example' when building the mission, if the dictionary is properly added to `phase_info`"
   ]
  },
  {
   "cell_type": "code",
   "execution_count": null,
   "metadata": {},
   "outputs": [],
   "source": [
    "from aviary.api import AviaryValues\n",
    "\n",
    "# If you are using Aviary's interface to run analysis, this example dictionary must be\n",
    "# place in phase_info, under the phase you want the arguments applied, like this:\n",
    "# (<phase_name>[<subsystem_name>] = aerodynamic_args).\n",
    "\n",
    "# The aerodynamics subsystem name must match what you provide here\n",
    "aerodynamic_args = {'aero_example': {'method': 'computed', 'gamma': 1.35}}\n",
    "\n",
    "# If you are manually building your subsystems, you can instead directly pass the\n",
    "# arguments to the builder\n",
    "input_variables = AviaryValues() # include your aircraft inputs here\n",
    "mission_comp = aero_builder.build_mission(num_nodes=1,\n",
    "                                          aviary_inputs=input_variables,\n",
    "                                          kwargs=aerodynamic_args['aero_example'])"
   ]
  },
  {
   "cell_type": "markdown",
   "metadata": {},
   "source": [
    "## FLOPS Based\n",
    "\n",
    "The choice of using FLOPS based aerodynamics behavior is user specified per mission. Note, detailed wing weight input variables do not impact aerodynamic calculations.\n",
    "\n",
    "The FLOPS aerodynamics pre-mission component performs calculations to determine the design Mach and lift coefficient of the aircraft.\n",
    "\n",
    "<!--TODO are these variables actually required or will defaults work?-->\n",
    "The following input variables are required for the pre-mission calculations:\n",
    "- `Aircraft.Wing.MAX_CAMBER_AT_70_SEMISPAN` : Maximum camber at 70 percent semi-span, percent of local chord\n",
    "- `Aircraft.Design.BASE_AREA` : Aircraft base area (total exit cross-section area minus inlet capture areas for internally mounted engines)\n",
    "- `Aircraft.Wing.AIRFOIL_TECHNOLOGY` : Airfoil technology parameter. Limiting values are: 1.0 represents conventional technology wing (Default); 2.0 represents advanced technology wing\n",
    "<!--TODO: etc. is there a better way than manual copy/paste?-->\n",
    "\n",
    "For mission analysis, FLOPS-based aerodynamics has several choices of method to determine the total lift and drag on the vehicle, listed below. The default is `computed`. If another method is desired, it should be specified in `phase_info` for each individual mission segment.\n",
    "- `computed`: uses regression-based techniques to estimate lift and drag\n",
    "- `low_speed`: for use in detailed takeoff analysis, and includes high-lift devices and considers angle-of-attack\n",
    "- `tabular`: allows the user to substitute the lift and drag coefficient calculations in `computed` with data tables\n",
    "\n",
    "### Computed Aerodynamics\n",
    "The FLOPS based aerodynamics subsystem uses a modified version of algorithms from the EDET (Empirical Drag Estimation Technique) program [^edet] to internally compute drag polars. FLOPS improvements to EDET as implemented in Aviary include smoothing of drag polars, more accurate Reynolds number calculations, and use of the Sommer and Short T' method [^tprime] for skin friction calculations.\n",
    "\n",
    "### Low Speed Aerodynamics\n",
    "This aerodynamics routine is designed for use with the height-energy detailed takeoff phase, which includes use of high-lift devices. This aerodynamics method uses angle of attack, which is a special case not present in other height-energy phases.\n",
    "\n",
    "### User Specified Tabular Drag Polars\n",
    "Third party drag polars can be specified by the user, either via a data file in [Aviary data format](./input_files.ipynb) or a NamedValues object. Two tables are required, one for lift-dependent drag, and another for zero-lift drag.\n",
    "- The lift-dependent drag coefficient table must include Mach number and lift coefficient as independent variables.\n",
    "- The zero-lift drag coefficient table must include altitude and Mach number as independent variables.\n",
    "\n",
    "Tabular aerodynamics uses Aviary's [data_interpolator_builder](../_srcdocs/packages/utils/data_interpolator_builder.md) interface. This component is unique as it requires two data tables to be provided. All configuration options, such as the choice to use a structured metamodel or training data, are applied to both tables.\n",
    "\n",
    "## GASP Based\n",
    "### Using GASP Aerodynamics with the Height-Energy Equations of Motion (FLOPS Mission)\n",
    "\n",
    "You can also use GASP-based aero with the height-energy mission by using the `solved_alpha` method.\n",
    "\n",
    "Gasp-based drag polars have 3 inputs: altitude, mach number, and angle of attack. Since the height-energy equations of motion do not incorporate angle of attack, `solved_alpha` creates an computational group with a solver that varies the angle of attack until the interpolated lift matches the weight force on the aircraft. The format for the table in the file is the same as for GASP-based aerodynamics used with the 2-DOF mission.\n",
    "\n",
    "## Externally Computed Polars\n",
    "\n",
    "Both FLOPS and GASP methods that use data tables support the use of training data, where the values for interpolation are provided by another openMDAO component via connections. An example problem using this method can be found [here](./external_aero.ipynb).\n",
    "\n",
    "[^edet]: Feagin, Richard C. and Morrison, William D., Jr. \"Delta Method, An Empirical\n",
    "Drag Buildup Technique.\" NASA CR-151971, December 1978.\n",
    "\n",
    "[^tprime]: Sommer, Simon C. and Short, Barbara J. \"Free-Flight Measurements of\n",
    "Turbulent-Boundary-Layer Skin Friction in the Presence of Severe Aerodynamic Heating at\n",
    "Mach Numbers from 2.8 to 7.9.\" NASA TN-3391, 1955."
   ]
  }
 ],
 "metadata": {
  "kernelspec": {
   "display_name": "aviary",
   "language": "python",
   "name": "python3"
  },
  "language_info": {
   "codemirror_mode": {
    "name": "ipython",
    "version": 3
   },
   "file_extension": ".py",
   "mimetype": "text/x-python",
   "name": "python",
   "nbconvert_exporter": "python",
   "pygments_lexer": "ipython3",
   "version": "3.8.17"
  }
 },
 "nbformat": 4,
 "nbformat_minor": 2
}
