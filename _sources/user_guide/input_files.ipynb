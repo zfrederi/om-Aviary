{
 "cells": [
  {
   "cell_type": "markdown",
   "metadata": {},
   "source": [
    "# Input Files\n",
    "\n",
    "Aviary can read input files for a few different purposes.\n",
    "The main purpose is to load information from a .csv file about the aircraft to be designed.\n",
    "Other input files might be necessary if you're loading in tabulated aerodynamic or propulsion data.\n",
    "This doc page goes into more details about the different types of input files and how to use them. "
   ]
  },
  {
   "cell_type": "markdown",
   "metadata": {},
   "source": [
    "## Aviary Aircraft Input Files\n",
    "\n",
    "Aviary can use a .csv file to load in information about the aircraft to be designed.\n",
    "The file format is straightforward and follows the convention of `name, value, units` for each row.\n",
    "The names of the variables are detailed in the [Understanding Variable Metadata doc page](variable_metadata).\n",
    "\n",
    "Here are the first few lines of an example input file:"
   ]
  },
  {
   "cell_type": "code",
   "execution_count": null,
   "metadata": {
    "tags": [
     "hide-input"
    ]
   },
   "outputs": [],
   "source": [
    "from aviary.api import Aircraft\n",
    "import aviary.api as av\n",
    "\n",
    "file_path = av.get_path('models/test_aircraft/aircraft_for_bench_FwFm.csv')\n",
    "\n",
    "with open(file_path, 'r') as file:\n",
    "    for i, line in enumerate(file):\n",
    "        if i < 20:\n",
    "            print(line.strip('\\n'))\n",
    "        else:\n",
    "            break\n"
   ]
  },
  {
   "cell_type": "markdown",
   "metadata": {},
   "source": [
    "## External Data Files\n",
    "Several subsystems, including propulsion and aerodynamics, support loading existing tabular engine performance data and drag polars respectively from text files. Aviary has a specific format that data files are required to be in to ensure both human and machine readability.\n",
    "\n",
    "Most arbitrary file extensions will work, however it is recommended to use a basic text-based file format (such as .txt or .csv) so the data file is compatible for viewing with other programs.\n",
    "\n",
    "Aviary's data table format consists of three parts: comments, headers, and data. Comments are any text on a line following the `#` character. Comments may be placed anywhere in the file, including in-line.\n",
    "\n",
    "Headers are information on variable name, and optionally units. Only one header can be present, and it must appear *before* the numerical performance data begins. The header consists of a comma separated list of variable names in the order they appear in the data table, with units optionally provided in parentheses after the variable name. Aviary supports the same [list of units](https://openmdao.org/newdocs/versions/latest/features/units.html) supported by OpenMDAO. \n",
    "If units are not specified, a default of 'unitless' is assumed, unless the user provides variable metadata when using the csv reading utility function. In that case, the default units of that variable in the metadata is used. This functionality is demonstrated below.\n",
    "\n",
    "The data in an external data file must be in column format, delimited by commas. Only numerical data that can be cast to type `float` is compatible with Aviary data tables at this time. An error will be raised if non-numerical data is present in the data file that is not a comment or a correctly formatted header."
   ]
  },
  {
   "cell_type": "markdown",
   "metadata": {},
   "source": [
    "### Reading and writing Aviary data files\n",
    "Aviary includes a pair of utility functions, `read_data_file` and `write_data_file`, to assist reading and writing files in Aviary data format. Here we will demonstrate writing data to a csv file, then reading it back to retrieve the data."
   ]
  },
  {
   "cell_type": "code",
   "execution_count": null,
   "metadata": {},
   "outputs": [],
   "source": [
    "# generate fake data set with units using NamedValues\n",
    "data = av.NamedValues()\n",
    "data.set_val(Aircraft.Wing.SPAN, [79, 118, 171], 'ft')\n",
    "data.set_val('Scale Factor', [0.5, 0.75, 0.8], 'unitless')\n",
    "# add these comments to the file, added to the top. Demonstrate how comments do not\n",
    "# require inclusion of a '#' symbol, and will work either way\n",
    "comments = ['This is test data generated using write_data_file',\n",
    "            '# Aviary data tables can support multiple comments']\n",
    "# the name of the file we will write to\n",
    "filename = 'example.csv'\n",
    "\n",
    "av.write_data_file(filename, data, comments)"
   ]
  },
  {
   "cell_type": "markdown",
   "metadata": {},
   "source": [
    "The .csv file that is created looks like this:"
   ]
  },
  {
   "cell_type": "code",
   "execution_count": null,
   "metadata": {
    "tags": [
     "hide-input"
    ]
   },
   "outputs": [],
   "source": [
    "with open('example.csv', 'r') as file:\n",
    "    for line in file:\n",
    "        print(line.strip('\\n'))"
   ]
  },
  {
   "cell_type": "markdown",
   "metadata": {},
   "source": [
    "Now, let's read this file back into memory and confirm everything was read correctly. Note that `Scale Factor` does not have units explicitly listed. Variables without specified units, or units of 'unitless' do not require units to be listed in the header to reduce clutter. When reading this csv back, Aviary will know to add units of 'unitless' to any variables without specified units. The exception is when using metadata to filter what data will be read, which will be demonstrated later on this page. Also, it can be seen both comments have the `#` as the first character, even though it was not included in the first comment given to the csv writer. Aviary handles comment formatting, so including a `#` character with comments is optional."
   ]
  },
  {
   "cell_type": "code",
   "execution_count": null,
   "metadata": {},
   "outputs": [],
   "source": [
    "# read the csv file that was just created\n",
    "read_data, read_comments = av.read_data_file(filename, save_comments=True)\n",
    "# print out comments\n",
    "print(read_comments)\n",
    "# print out variable name, units, and values\n",
    "items = av.get_items(read_data)\n",
    "for item in items:\n",
    "    print(f'{item[0]}, units: {item[1][1]}')\n",
    "    print(item[1][0])\n"
   ]
  },
  {
   "cell_type": "markdown",
   "metadata": {},
   "source": [
    "Running this code shows our comments were correctly retrieved (stripped of leading `#`). We also have both our variables with their correct units and values. The `write_data_file` function has added back in units of 'unitless' for Mach Number. `Scale Factor` was also modified to `Scale_Factor`. This is because it is assumed these names will feed into openMDAO variables, and spaces are not allowed.\n",
    "\n",
    "Now let's explore some optional arguments for `csv_reader`.\n",
    "\n",
    "The first optional argument for `csv_reader` is variable metadata. When provided, `read_data_file` checks variable names in the header against the metadata and skips reading any variables not found. In addition, units specified in the data file are checked for compatibility with the default units for that variable. If units are not provided for a variable, default units are applied instead of always applying 'unitless'. Let's re-run the same code as before, but this time provide Aviary's core metadata to the reader. The expected behavior is for `Scale Factor` to be skipped, since it isn't in the variable hierarchy."
   ]
  },
  {
   "cell_type": "code",
   "execution_count": null,
   "metadata": {},
   "outputs": [],
   "source": [
    "# call read_data_file again, but this time provide variable metadata\n",
    "read_data, read_comments = av.read_data_file(filename, av.CoreMetaData, save_comments=True)\n",
    "# print out comments\n",
    "print(read_comments)\n",
    "# print out variable name, units, and values\n",
    "items = av.get_items(read_data)\n",
    "for item in items:\n",
    "    print(f'{item[0]}, units: {item[1][1]}')\n",
    "    print(item[1][0])"
   ]
  },
  {
   "cell_type": "markdown",
   "metadata": {},
   "source": [
    "We can see that only `aircraft:wing:span` was read from file this time, and is the only variable present in the data loaded to memory. Additionally, a warning was created informing us that `Scale Factor` was skipped.\n",
    "\n",
    "A second optional argument is `aliases`. This argument is used to map multiple possible header names to the same openMDAO variable. This is useful if your data files do not use Aviary variable names, or could contain multiple variants of names that all mean the same thing (such as 'height', 'alt', and 'altitude'). In this example, our data file has a header labeled `Scale Factor`, but we would like to map it to the more precise `aircraft:wing:mass_scaler`. The allowable header name matching is not case-sensitive and Aviary will treat spaces and underscores as identical, so `scale_factor` will match with `Scale Factor`. This improves ease-of-use. However, the variable name you want headers mapped to are case-sensitive, in case you are connecting to an external component that doesn't follow Aviary's [variable naming standards](../developer_guide/coding_standards.md). So if your alias dict contains `Final_Name: example_var`, any case combination of `example_var` will always return `Final_Name` capitalized as specified."
   ]
  },
  {
   "cell_type": "code",
   "execution_count": null,
   "metadata": {},
   "outputs": [],
   "source": [
    "# keys are desired openMDAO variable name, values are header names that we want to match\n",
    "# values can also be a list of multiple header names that map to the same key\n",
    "alias_dict = {Aircraft.Wing.MASS_SCALER: 'Scale Factor'}\n",
    "\n",
    "# call read_data_file again, but this time provide variable alias dictionary\n",
    "read_data, read_comments = av.read_data_file(filename, aliases=alias_dict, save_comments=True)\n",
    "# print out comments\n",
    "print(read_comments)\n",
    "# print out variable name, units, and values\n",
    "items = av.get_items(read_data)\n",
    "for item in items:\n",
    "    print(f'{item[0]}, units: {item[1][1]}')\n",
    "    print(item[1][0])"
   ]
  },
  {
   "cell_type": "markdown",
   "metadata": {},
   "source": [
    "We can see that instead of returning `Scale Factor`, we have our values listed under `aircraft:wing:mass_scaler`, as desired."
   ]
  }
 ],
 "metadata": {
  "kernelspec": {
   "display_name": "aviary",
   "language": "python",
   "name": "python3"
  },
  "language_info": {
   "codemirror_mode": {
    "name": "ipython",
    "version": 3
   },
   "file_extension": ".py",
   "mimetype": "text/x-python",
   "name": "python",
   "nbconvert_exporter": "python",
   "pygments_lexer": "ipython3",
   "version": "3.10.8"
  }
 },
 "nbformat": 4,
 "nbformat_minor": 2
}
