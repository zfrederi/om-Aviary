{
 "cells": [
  {
   "cell_type": "markdown",
   "id": "indian-capability",
   "metadata": {},
   "source": [
    "# Externally Computed Polars\n",
    "\n",
    "This example shows how to build, using the level-2 interface, an aviary model that includes an external susbsystem that computes a lift and drag polar and passes them into the mission aerodynamics for a 3-phase mission (climb, cruise, descent). During the mission, Aviary will interpolate on the computed polars to compute actual lift and drag for a given flight condition.\n",
    "\n",
    "We start with the assumption that we have an external component called `ExternalAero` that can compute the lift and drag at any given altitude, mach number, and angle of attack. The details of such a component may be highly complicated and not important for the purposes of this example. We will be using a structured grid, which assumes the data table is regularly spaced in all dimensions. We want to compute lift and drag over a grid of altitudes (in 'ft'), mach numbers, and angles of attack given by:"
   ]
  },
  {
   "cell_type": "code",
   "execution_count": null,
   "id": "photographic-excerpt",
   "metadata": {
    "tags": [
     "remove-input"
    ]
   },
   "outputs": [],
   "source": [
    "# This hidden cell just creates a component that produces the lift and drag polar. \n",
    "# The implementation details are unimportant to the example.\n",
    "import openmdao.api as om\n",
    "import numpy as np\n",
    "\n",
    "from aviary.api import Aircraft\n",
    "import aviary.api as av\n",
    "\n",
    "# The drag-polar-generating component reads this in, instead of computing the polars.\n",
    "polar_file = \"subsystems/aerodynamics/gasp_based/data/large_single_aisle_1_aero_free_reduced_alpha.txt\"\n",
    "\n",
    "aero_data = av.read_data_file(polar_file, aliases = {'altitude': 'altitude',\n",
    "                                                  'mach': 'mach',\n",
    "                                                  'angle_of_attack': 'angle_of_attack',\n",
    "                                                  'lift_coefficient': 'cl',\n",
    "                                                  'drag_coefficient': 'cd'})\n",
    "\n",
    "altitude = np.unique(aero_data.get_val('altitude', 'ft'))\n",
    "mach = np.unique(aero_data.get_val('mach', 'unitless'))\n",
    "angle_of_attack = np.unique(aero_data.get_val('angle_of_attack', 'deg'))\n",
    "\n",
    "shape = (altitude.size, mach.size, angle_of_attack.size)\n",
    "CL = aero_data.get_val('lift_coefficient').reshape(shape)\n",
    "CD = aero_data.get_val('drag_coefficient').reshape(shape)\n",
    "\n",
    "\n",
    "class ExternalAero(om.ExplicitComponent):\n",
    "    \"\"\"\n",
    "    This component is a stand-in for an externally computed lift/drag table\n",
    "    calculation. It does nothing but read in the pre-computed table. A real\n",
    "    component would actually computed the values at all requested points.\n",
    "    \"\"\"\n",
    "    def initialize(self):\n",
    "        \"\"\"\n",
    "        Declare options.\n",
    "        \"\"\"\n",
    "        self.options.declare(\"altitude\", default=None, allow_none=True,\n",
    "                             desc=\"List of altitudes in ascending order.\")\n",
    "        self.options.declare(\"mach\", default=None, allow_none=True,\n",
    "                             desc=\"List of mach numbers in ascending order.\")\n",
    "        self.options.declare(\"angle_of_attack\", default=None, allow_none=True,\n",
    "                             desc=\"List of angles of attack in ascending order.\")\n",
    "\n",
    "    def setup(self):\n",
    "        altitude = self.options['altitude']\n",
    "        mach = self.options['mach']\n",
    "        angle_of_attack = self.options['angle_of_attack']\n",
    "\n",
    "        self.add_input(Aircraft.Wing.AREA, 1.0, units='ft**2')\n",
    "        self.add_input(Aircraft.Wing.SPAN, 1.0, units='ft')\n",
    "\n",
    "        shape = (len(altitude), len(mach), len(angle_of_attack))\n",
    "\n",
    "        self.add_output('drag_table', shape=shape, units='unitless')\n",
    "        self.add_output('lift_table', shape=shape, units='unitless')\n",
    "\n",
    "    def compute(self, inputs, outputs):\n",
    "        \"\"\"\n",
    "        This component doesn't do anything, except set the drag and lift\n",
    "        polars from the file we read in.\n",
    "        \"\"\"\n",
    "        outputs['drag_table'] = CD\n",
    "        outputs['lift_table'] = CL\n",
    "        \n",
    "print('Altitude (ft)', altitude)\n",
    "print('Mach', mach)\n",
    "print('Angle of Attack (deg)', angle_of_attack)"
   ]
  },
  {
   "cell_type": "markdown",
   "id": "elder-kinase",
   "metadata": {},
   "source": [
    "In a structured grid, interpolation data must be present for every combination of inputs. In other words, our `ExternalAero` component must run a full factorial of points spanning those 3 variables. The Aviary variable hierarchy includes two variables for the polars: `Aircraft.Design.LIFT_POLAR`, and `Aircraft.Design.DRAG_POLAR`. The data in each of these polars should be a `n` x `m` x `k` numpy array, where `n` is the number of altitudes, `m` is the number of mach numbers, and `k` is the number of angles of attack. The `ExternalAero` will need to compute these values and place them into an array of this shape.\n",
    "\n",
    "If use of a structured grid is not desirable, then the data does not need to meet these formatting requirements. In that case, the data table does not have to be regularly spaced, and each variable (`Altitude`, `Mach`, `angle_of_attack`, `LIFT_POLAR`, and `DRAG_POLAR`) must be 1-dimensional numpy arrays of equal length.\n",
    "\n",
    "Using the level-2 interface, we create a builder for our external `ExternalAero` subsystem. In this example, the component produces outputs `drag_table` and `lift_table`, but we can specify an alias to `Aircraft.Design.DRAG_POLAR` and `Aircraft.Design.LIFT_POLAR` respectively. It is important that we inherit from the `AerodynamicsBuilderBase` to let Aviary know this is builder produces aerodynamics components. Some mission analysis methods require special handling of aerodynamics components that will not occur if we skip this step."
   ]
  },
  {
   "cell_type": "code",
   "execution_count": null,
   "id": "roman-direction",
   "metadata": {},
   "outputs": [],
   "source": [
    "class ExternalAeroBuilder(av.AerodynamicsBuilderBase):\n",
    "    \"\"\"\n",
    "    An example subsystem builder that adds an external aerodynamics component\n",
    "\n",
    "    Parameters\n",
    "    ----------\n",
    "    aero_data : NamedValues\n",
    "        Altitude, Mach number, and angle of attack data, all in ascending order.\n",
    "    \"\"\"\n",
    "\n",
    "    def __init__(self, name='aero', altitude=None, mach=None,\n",
    "                 angle_of_attack=None):\n",
    "        super().__init__(name)\n",
    "        self.altitude = altitude\n",
    "        self.mach = mach\n",
    "        self.angle_of_attack = angle_of_attack\n",
    "        \n",
    "    def build_pre_mission(self, aviary_inputs):\n",
    "        \"\"\"\n",
    "        Build an OpenMDAO system for the pre-mission computations of the subsystem.\n",
    "\n",
    "        Returns\n",
    "        -------\n",
    "        pre_mission_sys : openmdao.core.Group\n",
    "            An OpenMDAO group containing all computations that need to happen in\n",
    "            the pre-mission part of the Aviary problem. This includes sizing, design,\n",
    "            and other non-mission parameters.\n",
    "        \"\"\"\n",
    "\n",
    "        return ExternalAero(altitude=self.altitude, mach=self.mach, angle_of_attack=self.angle_of_attack)\n",
    "\n",
    "    def mission_outputs(self):\n",
    "        return [('drag_table', Aircraft.Design.DRAG_POLAR),\n",
    "                ('lift_table', Aircraft.Design.LIFT_POLAR)]"
   ]
  },
  {
   "cell_type": "markdown",
   "id": "extreme-green",
   "metadata": {},
   "source": [
    "Notice that we have passed the altitude, Mach, and angle of attack arrays into the builder so that the ExternalAero component can use them as instantiation arguments.\n",
    "\n",
    "Next, we add the builder to our phase_info as usual. We are using a single-aisle commercial transport aircraft and mission."
   ]
  },
  {
   "cell_type": "code",
   "execution_count": null,
   "id": "coral-beijing",
   "metadata": {},
   "outputs": [],
   "source": [
    "phase_info = av.default_height_energy_phase_info.copy()\n",
    "\n",
    "external_aero = ExternalAeroBuilder(name='external_aero',\n",
    "                                    altitude=altitude, mach=mach, angle_of_attack=angle_of_attack)\n",
    "\n",
    "phase_info['pre_mission']['external_subsystems'] = [external_aero]"
   ]
  },
  {
   "cell_type": "markdown",
   "id": "technological-compatibility",
   "metadata": {},
   "source": [
    "Next, the existing mission phases need to be given the information they need to set up our aerodynamics analysis using `phase_info`. We use the `solved_alpha` method of Aviary's included aerodynamics for this, which can accept the input passed from our external subsystem. Since we are using Aviary's built-in aerodynamics methods, we use the default name \"core_aerodynamics\". Don't forget to update the `subsystem_options` for each phase. We must specify the `method`, the `aero_data` that contains our altitude, Mach, and angle of attack data, as well as the `training_data` flag to denote we are passing our drag polars via openMDAO connections."
   ]
  },
  {
   "cell_type": "code",
   "execution_count": null,
   "id": "phantom-showcase",
   "metadata": {},
   "outputs": [],
   "source": [
    "subsystem_options = {'method': 'solved_alpha',\n",
    "                     'aero_data': aero_data,\n",
    "                     'training_data': True}\n",
    "\n",
    "phase_info['climb']['subsystem_options'] = {'core_aerodynamics': subsystem_options}\n",
    "phase_info['cruise']['subsystem_options'] = {'core_aerodynamics': subsystem_options}\n",
    "phase_info['descent']['subsystem_options'] = {'core_aerodynamics': subsystem_options}\n"
   ]
  },
  {
   "cell_type": "markdown",
   "id": "equivalent-lawsuit",
   "metadata": {},
   "source": [
    "Finally, we can instantiate the AviaryProblem like normal. However, we need to tell Aviary the size of our lift and drag polars so that it can allocate the right shape for the connection."
   ]
  },
  {
   "cell_type": "code",
   "execution_count": null,
   "id": "quick-report",
   "metadata": {},
   "outputs": [],
   "source": [
    "import pkg_resources\n",
    "\n",
    "from aviary.api import AviaryProblem\n",
    "\n",
    "input_file = pkg_resources.resource_filename(\n",
    "    \"aviary\", \"models/test_aircraft/aircraft_for_bench_GwFm.csv\")\n",
    "\n",
    "prob = av.AviaryProblem()\n",
    "prob.load_inputs(input_file, phase_info)\n",
    "\n",
    "# Add correctly-sized polar to aviary_inputs so that input components are sized correctly.\n",
    "shape = (altitude.size, mach.size, angle_of_attack.size)\n",
    "\n",
    "prob.aviary_inputs.set_val(Aircraft.Design.LIFT_POLAR, np.zeros(shape), units='unitless')\n",
    "prob.aviary_inputs.set_val(Aircraft.Design.DRAG_POLAR, np.zeros(shape), units='unitless')\n"
   ]
  },
  {
   "cell_type": "code",
   "execution_count": null,
   "id": "weird-space",
   "metadata": {
    "tags": [
     "remove-input"
    ]
   },
   "outputs": [],
   "source": [
    "# get through setup for the problem\n",
    "prob.add_pre_mission_systems()\n",
    "prob.add_phases()\n",
    "prob.add_post_mission_systems()\n",
    "prob.link_phases()\n",
    "prob.add_driver(\"SLSQP\")\n",
    "prob.add_design_variables()\n",
    "prob.add_objective(objective_type=\"mass\", ref=-1e5)\n",
    "prob.setup()"
   ]
  }
 ],
 "metadata": {
  "celltoolbar": "Tags",
  "kernelspec": {
   "display_name": "Python 3",
   "language": "python",
   "name": "python3"
  },
  "language_info": {
   "codemirror_mode": {
    "name": "ipython",
    "version": 3
   },
   "file_extension": ".py",
   "mimetype": "text/x-python",
   "name": "python",
   "nbconvert_exporter": "python",
   "pygments_lexer": "ipython3",
   "version": "3.8.17"
  },
  "orphan": true
 },
 "nbformat": 4,
 "nbformat_minor": 5
}
