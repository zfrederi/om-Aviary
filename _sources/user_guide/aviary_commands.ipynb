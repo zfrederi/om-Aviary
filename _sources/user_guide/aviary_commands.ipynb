{
 "cells": [
  {
   "attachments": {},
   "cell_type": "markdown",
   "metadata": {},
   "source": [
    "# Command Line Tools\n",
    "\n",
    "Aviary has a number of command line tools that are available via the `aviary`\n",
    "command.\n",
    "\n",
    "```{note}\n",
    "When using a command line tool on a script that takes its own command line arguments, those\n",
    "arguments must be placed after a `--` on the command line.  Anything to the right of the\n",
    "`--` will be ignored by the Aviary command line parser and passed on to the user script.\n",
    "For example: `Aviary sub_command -o foo.html myscript.py -- -x --myarg=bar` would pass\n",
    "`-x` and `--myarg=bar` as args to `myscript.py`.\n",
    "```\n",
    "\n",
    "All available `aviary` sub-commands can be shown using the following command:"
   ]
  },
  {
   "attachments": {},
   "cell_type": "markdown",
   "metadata": {},
   "source": [
    "```\n",
    "aviary -h\n",
    "```"
   ]
  },
  {
   "cell_type": "code",
   "execution_count": null,
   "metadata": {
    "tags": [
     "remove-input"
    ]
   },
   "outputs": [],
   "source": [
    "!aviary -h"
   ]
  },
  {
   "attachments": {},
   "cell_type": "markdown",
   "metadata": {},
   "source": [
    "To get further info on any sub-command, follow the command with a *-h*.  For example:"
   ]
  },
  {
   "attachments": {},
   "cell_type": "markdown",
   "metadata": {},
   "source": [
    "```\n",
    "aviary run_mission -h\n",
    "```"
   ]
  },
  {
   "cell_type": "code",
   "execution_count": null,
   "metadata": {
    "tags": [
     "remove-input"
    ]
   },
   "outputs": [],
   "source": [
    "!aviary run_mission -h"
   ]
  },
  {
   "attachments": {},
   "cell_type": "markdown",
   "metadata": {},
   "source": [
    "## Available Commands and Their Usage\n",
    "\n",
    "\n",
    "(aviary-run_mission-command)=\n",
    "### aviary run_mission\n",
    "\n",
    "`run_mission` is a command line interface that will run an analysis on a given csv input file.\n",
    "\n",
    "To use small_single_aisle_GwGm.csv run the command `aviary run_mission --mission_method GASP --mass_origin GASP models/small_single_aisle/small_single_aisle_GwGm.csv`<br>\n",
    "\n",
    "SNOPT is the default optimizer, but IPOPT is available as well."
   ]
  },
  {
   "attachments": {},
   "cell_type": "markdown",
   "metadata": {},
   "source": [
    "```\n",
    "aviary run_mission -h\n",
    "```"
   ]
  },
  {
   "cell_type": "code",
   "execution_count": null,
   "metadata": {
    "tags": [
     "remove-input"
    ]
   },
   "outputs": [],
   "source": [
    "!aviary run_mission -h"
   ]
  },
  {
   "attachments": {},
   "cell_type": "markdown",
   "metadata": {},
   "source": [
    "(aviary-fortran_to_aviary-command)=\n",
    "### aviary fortran_to_aviary\n",
    "\n",
    "The `aviary fortran_to_aviary` command will convert a Fortran input deck to an Aviary csv.\n",
    "\n",
    "The only required input is the filepath to the input deck.\n",
    "Optionally, a deck of default values can be specified, this is useful if an input deck assumes certain values for any unspecified variables.\n",
    "If an invalid filepath is given, pre-packaged resources will be checked for input decks with a matching name.\n",
    "\n",
    "Notes for input decks:\n",
    "- FLOPS, GASP, or Aviary names can be used for variables (Ex WG or Mission:Design:GROSS_MASS)\n",
    "- When specifying variables from FORTRAN, they should be in the appropriate NAMELIST.\n",
    "- Aviary variable names should be specified outside any NAMELISTS.\n",
    "- Names are not case-sensitive.\n",
    "- Units can be specified using any of the openMDAO valid units.\n",
    "- Comments can be added using !\n",
    "- Lists can be entered by separating values with commas.\n",
    "- Individual list elements can be specified by adding an index after the variable name.\n",
    "- (NOTE: 1 indexing is used inside NAMELISTS, while 0 indexing is used outside NAMELISTS)\n",
    "\n",
    "Example inputs:\n",
    "```\n",
    "aircraft:fuselage:pressure_differential = .5, atm !DELP in GASP, but using atmospheres instead of psi\n",
    "ARNGE(1) = 3600 !target range in nautical miles\n",
    "pyc_phases = taxi, groundroll, rotation, landing\n",
    "debug_mode = True\n",
    "```\n"
   ]
  },
  {
   "attachments": {},
   "cell_type": "markdown",
   "metadata": {},
   "source": [
    "```\n",
    "aviary fortran_to_aviary -h\n",
    "```"
   ]
  },
  {
   "cell_type": "code",
   "execution_count": null,
   "metadata": {
    "tags": [
     "remove-input"
    ]
   },
   "outputs": [],
   "source": [
    "!aviary fortran_to_aviary -h"
   ]
  }
 ],
 "metadata": {
  "celltoolbar": "Tags",
  "kernelspec": {
   "display_name": "Python 3",
   "language": "python",
   "name": "python3"
  },
  "language_info": {
   "codemirror_mode": {
    "name": "ipython",
    "version": 3
   },
   "file_extension": ".py",
   "mimetype": "text/x-python",
   "name": "python",
   "nbconvert_exporter": "python",
   "pygments_lexer": "ipython3",
   "version": "3.8.8"
  }
 },
 "nbformat": 4,
 "nbformat_minor": 4
}
