{
 "cells": [
  {
   "cell_type": "code",
   "execution_count": null,
   "id": "approved-school",
   "metadata": {
    "tags": [
     "remove-input",
     "remove-output"
    ]
   },
   "outputs": [],
   "source": [
    "try:\n",
    "    from openmdao.utils.notebook_utils import notebook_mode\n",
    "except ImportError:\n",
    "    !python -m pip install openmdao[notebooks]"
   ]
  },
  {
   "cell_type": "markdown",
   "id": "editorial-gilbert",
   "metadata": {},
   "source": [
    "# Overriding Variables\n",
    "\n",
    "Aviary allows you to replace certain internally computed quantities with a custom value, which can either be a constant or a value computed by some custom component through a capability called `Overriding`. The motivation for this capability comes from FLOPS, which allowed the user to override certain variables with pre-computed values from other more accurate sources. Aviary expands this feature to allow direct override of any intermediate calculation except for dynamic mission variables that are controlled by Dymos.\n",
    "\n",
    "Throughout an Aviary model, all inputs and outputs that begin with \"aircraft:\" or \"mission:\" are promoted to the top level. When an output and an input have the same name, they are implicitly connected through this process. When we override an Aviary output, it is no longer promoted as the original variable name, but is instead promoted with the string \"AUTO_OVERRIDE:\" prepended to the variable name. This eliminates the connection from the output to the input and a visible dead-end promoted name that will be seen in the `list_outputs`. \n",
    "\n",
    "Once an output has been overridden, the inputs are free to take on any value specified in the `aviary_inputs`. If you add an external component to your aviary model that provides this same output, then those inputs will be implicitly connected to that component. If you add multiple components that provide the output, then you will have to override all but one of them.\n",
    "\n",
    "\n",
    "## Replacing Computed Value with a Constant\n",
    "\n",
    "Consider a simple case where we want to specify a constant value for the horizontal tail mass instead of using the value calculated in Aviary. We simply set the value in our `aviary_inputs`."
   ]
  },
  {
   "cell_type": "code",
   "execution_count": null,
   "id": "discrete-south",
   "metadata": {},
   "outputs": [],
   "source": [
    "from aviary.api import Aircraft\n",
    "import aviary.api as av\n",
    "\n",
    "aviary_inputs = av.AviaryValues(av.FLOPS_Test_Data['LargeSingleAisle1FLOPS']['inputs'])\n",
    "\n",
    "aviary_inputs.set_val(Aircraft.HorizontalTail.MASS, 2200.0, units='lbm')"
   ]
  },
  {
   "cell_type": "markdown",
   "id": "encouraging-picnic",
   "metadata": {},
   "source": [
    "## Replacing Computed Value with the Output of Another Component\n",
    "\n",
    "Consider a case where we have added one component that computes the mass of the horizontal tail. We want to override the internally computed value of the mass with a new value that comes from an external component. We can do this in the level 2 interface when we define our builder, by simply providing an output that uses Aviary's name in the variable hierarchy. (i.e., Aircraft.HorizontalTail.MASS for this case)  When we do this, aviary will automatically detect that an external subsystem is providing this variable, and will override the internal calculation."
   ]
  },
  {
   "cell_type": "code",
   "execution_count": null,
   "id": "unlikely-baltimore",
   "metadata": {},
   "outputs": [],
   "source": [
    "import openmdao.api as om\n",
    "\n",
    "from aviary.api import SubsystemBuilderBase, Aircraft\n",
    "\n",
    "\n",
    "class HTailMass(om.ExplicitComponent):\n",
    "    \"\"\"\n",
    "    User-provided subsystem to compute the tail weight with a simple formula.\n",
    "    \"\"\"\n",
    "\n",
    "    def setup(self):\n",
    "\n",
    "        self.add_input('Area', 1.0, units='ft**2')\n",
    "        self.add_output('Mass', 1.0, units='lbm')\n",
    "        \n",
    "        self.declare_partials('Mass', 'Area', val=20.0)\n",
    "\n",
    "    def compute(self, inputs, outputs):\n",
    "        outputs['Mass'] = 20.0 * inputs['Area']\n",
    "        \n",
    "        \n",
    "class HTailWeightBuilder(SubsystemBuilderBase):\n",
    "    \"\"\"\n",
    "    Prototype of a subsystem that overrides an aviary internally computed var.\n",
    "    \"\"\"\n",
    "\n",
    "    def __init__(self, name='wing_weight'):\n",
    "        super().__init__(name)\n",
    "\n",
    "    def build_pre_mission(self, aviary_inputs):\n",
    "        '''\n",
    "        Build an OpenMDAO system for the pre-mission computations of the subsystem.\n",
    "\n",
    "        Returns\n",
    "        -------\n",
    "        pre_mission_sys : openmdao.core.System\n",
    "            An OpenMDAO system containing all computations that need to happen in\n",
    "            the pre-mission (formerly statics) part of the Aviary problem. This\n",
    "            includes sizing, design, and other non-mission parameters.\n",
    "        '''\n",
    "        wing_group = om.Group()\n",
    "        wing_group.add_subsystem(\"tail_weight\", HTailMass(),\n",
    "                                 promotes_inputs=[('Area', Aircraft.HorizontalTail.AREA)],\n",
    "                                 promotes_outputs=[('Mass', Aircraft.HorizontalTail.MASS)]\n",
    "                                )\n",
    "        return wing_group\n",
    "\n",
    "\n",
    "from aviary.api import default_height_energy_phase_info as phase_info   \n",
    "phase_info['pre_mission']['external_subsystems'] = [HTailWeightBuilder(name=\"tail_external\")]\n"
   ]
  },
  {
   "cell_type": "code",
   "execution_count": null,
   "id": "temporal-duplicate",
   "metadata": {
    "tags": [
     "remove-input",
     "remove-output"
    ]
   },
   "outputs": [],
   "source": [
    "# Make sure the syntax is correct.\n",
    "\n",
    "builder = HTailWeightBuilder()\n",
    "builder.build_pre_mission(None)"
   ]
  },
  {
   "cell_type": "markdown",
   "id": "acquired-trinity",
   "metadata": {},
   "source": [
    "Note that if we add two components that provide the same output, we should be careful to only promote one of them to a specific variable name. If you promote two or more outputs with the same name, an error will be raised indicating that there are multiple outputs with the same name."
   ]
  }
 ],
 "metadata": {
  "celltoolbar": "Tags",
  "kernelspec": {
   "display_name": "Python 3",
   "language": "python",
   "name": "python3"
  },
  "language_info": {
   "codemirror_mode": {
    "name": "ipython",
    "version": 3
   },
   "file_extension": ".py",
   "mimetype": "text/x-python",
   "name": "python",
   "nbconvert_exporter": "python",
   "pygments_lexer": "ipython3",
   "version": "3.8.17"
  },
  "orphan": true
 },
 "nbformat": 4,
 "nbformat_minor": 5
}
