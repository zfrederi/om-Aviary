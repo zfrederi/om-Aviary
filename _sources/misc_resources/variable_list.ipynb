{
 "cells": [
  {
   "attachments": {},
   "cell_type": "markdown",
   "id": "editorial-gilbert",
   "metadata": {},
   "source": [
    "# List of Aviary Variables\n",
    "\n",
    "Below is a table that shows the metadata for all the variables in the Aviary-core variable hierarchies. The historical variable names of these variables in FLOPS and GASP have not been reprinted but they are available in the metadata. If you would like to know the historical variable name of a specific variable you can access it with the call `print(av.CoreMetaData[<variable_name>]['historical_name']`.\n",
    "The descriptions associated with the *Description* column of the table below are descriptions of that variable's function. Similarity, the *Option* column lists whether or not the variable is an option (a value of `True` indicates that it is an option), the *Default Value* column states the variable's default value if it has one, and the *Possible Types* column states all the data types that variable is restricted to, if there are any restrictions imposed. (Note that most variables do not have restricted types and are assumed to be numerical.)"
   ]
  },
  {
   "cell_type": "code",
   "execution_count": null,
   "id": "discrete-south",
   "metadata": {
    "tags": [
     "remove-input",
     "no-stderr"
    ]
   },
   "outputs": [],
   "source": [
    "import warnings\n",
    "warnings.filterwarnings('ignore')\n",
    "import tabulate\n",
    "import aviary.api as av\n",
    "\n",
    "titles = ['Variable Name', 'Units', 'Description', 'Option', 'Default Value', 'Possible Types']\n",
    "mylist = []\n",
    "for key in av.CoreMetaData.keys():\n",
    "   shortlist = []\n",
    "   shortlist.append(key)\n",
    "   for inner_key in av.CoreMetaData[key].keys():\n",
    "       if inner_key != 'historical_name':\n",
    "           shortlist.append(av.CoreMetaData[key][inner_key])\n",
    "   mylist.append(shortlist.copy())\n",
    "\n",
    "table = tabulate.tabulate(mylist, headers=titles, tablefmt='html')\n",
    "table"
   ]
  }
 ],
 "metadata": {
  "celltoolbar": "Tags",
  "kernelspec": {
   "display_name": "Python 3",
   "language": "python",
   "name": "python3"
  },
  "language_info": {
   "codemirror_mode": {
    "name": "ipython",
    "version": 3
   },
   "file_extension": ".py",
   "mimetype": "text/x-python",
   "name": "python",
   "nbconvert_exporter": "python",
   "pygments_lexer": "ipython3",
   "version": "3.8.10"
  },
  "orphan": true
 },
 "nbformat": 4,
 "nbformat_minor": 5
}
