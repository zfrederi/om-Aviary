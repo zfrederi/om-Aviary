{
 "cells": [
  {
   "cell_type": "markdown",
   "id": "04133934",
   "metadata": {},
   "source": [
    "# Level 2\n",
    "\n",
    "We have discussed [Level 1](onboarding_level1.ipynb) in great detail. As we have seen, Level 1 is relatively simple.\n",
    "\n",
    "In Level 2, we see more flexibility and additional choices. You will be exposed to some simple Python code and see how Aviary establishes a problem from beginning to end. Each step is built upon the capabilities of [Level 3](onboarding_level3). Users will be led to Level 3 in a natural way.\n",
    "\n",
    "Level 2 is defined in the [aviary/interface/methods_for_level1.py file](https://github.com/OpenMDAO/Aviary/blob/main/aviary/interface/methods_for_level1.py) and it has a single method `run_aviary()` with a few arguments. If you examine `interface/level1.py` you see that Level 1 prepares those arguments and then call `run_aviary()`. For `aviary run_mission aircraft_for_bench_GwGm` examples, those arguments are:\n",
    "\n",
    "- `aircraft_filename`: `aircraft_for_bench_GwGm`\n",
    "- `phase_info`: `phase_info` (loaded from `aviary/interface/default_phase_info/gasp.py`)\n",
    "- `optimizer`: `IPOPT` (the default is `None`)\n",
    "- `analysis_scheme`: `AnalysisScheme.COLLOCATION` (the default)\n",
    "- `objective_type`: `None` (default)\n",
    "- `record_filename`: `aviary_history.db` (the default)\n",
    "- `restart_filename`: `None` (the default)\n",
    "- `max_iter`: 50 (the default)\n",
    "\n",
    "All the above arguments are straightforward except `objective_type`. Even though `objective_type` is `None`, it is not treated as `None`. In this scenario, the objective is set based on `problem_type` when using the GASP-based mission method, but not the FLOPS-based mission. There are three options for `problem_type`. Aviary has the following mapping when `objective_type` is not set by user and `mission_method` is `GASP`:\n",
    "\n",
    "| problem_type | objective |\n",
    "| ------------ | --------- |\n",
    "| `SIZING` | Mission.Objectives.FUEL |\n",
    "| `ALTERNATE` | Mission.Objectives.FUEL |\n",
    "| `FALLOUT` | Mission.Objectives.RANGE |\n",
    "\n",
    "In Aviary, `problem_type` is set to `SIZING` when it creates a vehicle (see [create_vehicle](https://github.com/OpenMDAO/Aviary/blob/main/aviary/utils/UI.py)). As you can see, since `problem_type` is `SIZING` by default in our case and we don't manually alter this setting, Aviary set objective to `Mission.Objectives.FUEL`. We will discuss more options of `objective_type` later on.\n",
    "\n",
    "In our onboarding runs, we want to limit the number of iterations to 1 so that they all run faster. As a result, we will not consider whether the optimization converges. So, we will have\n",
    "\n",
    "```\n",
    "`max_iter`: 1\n",
    "```\n",
    "\n",
    "Level 2 cannot be run via `aviary` command on the command line. Users must develop level 2 Python code. The good news is that the Python code is pretty small. You can follow the following steps in order (we do not include function arguments for simplicity):\n",
    "\n",
    "- `prob = AviaryProblem()`\n",
    "- `prob.load_inputs()`\n",
    "- `prob.check_and_preprocess_inputs()`\n",
    "- `prob.add_pre_mission_systems()`\n",
    "- `prob.add_phases()`\n",
    "- `prob.add_post_mission_systems()`\n",
    "- `prob.link_phases()`\n",
    "- `prob.add_driver()`\n",
    "- `prob.add_design_variables()`\n",
    "- `prob.add_objective()`\n",
    "- `prob.setup()`\n",
    "- `prob.set_initial_guesses()`\n",
    "- `prob.run_aviary_problem()`\n",
    "\n",
    "In the rest of this page, we will show a few examples to demonstrate how level 2 runs these steps. We start from rebuilding `aircraft_for_bench_GwGm` model in great details."
   ]
  },
  {
   "cell_type": "markdown",
   "id": "a1b573a9",
   "metadata": {},
   "source": [
    "## Build level 2 for the same `aircraft_for_bench_GwGm` Model\n",
    "\n",
    "We create a level 2 Python script to reproduce the `aircraft_for_bench_GwGm` model run that was used as an example in the level 1 document (this time we won’t use the level 1 functionality). The methods listed above are defined in level 3 (namely, [interface/methods_for_level2.py](https://github.com/OpenMDAO/Aviary/blob/main/aviary/interface/methods_for_level2.py)). You can run the code as follows:"
   ]
  },
  {
   "cell_type": "code",
   "execution_count": null,
   "id": "fe134855",
   "metadata": {},
   "outputs": [],
   "source": [
    "from aviary.api import Aircraft, Mission\n",
    "import aviary.api as av\n",
    "from copy import deepcopy\n",
    "\n",
    "\n",
    "# inputs that run_aviary() requires\n",
    "aircraft_filename = \"models/test_aircraft/aircraft_for_bench_GwGm.csv\"\n",
    "optimizer = \"IPOPT\"\n",
    "analysis_scheme = av.AnalysisScheme.COLLOCATION\n",
    "objective_type = None\n",
    "record_filename = 'aviary_history.db'\n",
    "restart_filename = None\n",
    "max_iter = 0\n",
    "phase_info = deepcopy(av.default_2DOF_phase_info)\n",
    "\n",
    "# Build problem\n",
    "prob = av.AviaryProblem(analysis_scheme)\n",
    "\n",
    "# Load aircraft and options data from user\n",
    "# Allow for user overrides here\n",
    "prob.load_inputs(aircraft_filename, phase_info)\n",
    "\n",
    "# Preprocess inputs\n",
    "prob.check_and_preprocess_inputs()\n",
    "\n",
    "# adds a pre-mission group (propulsion, geometry, static aerodynamics, and mass)\n",
    "prob.add_pre_mission_systems()\n",
    "\n",
    "# adds a sequence of core mission phases.\n",
    "prob.add_phases()\n",
    "\n",
    "# adds a landing phase\n",
    "prob.add_post_mission_systems()\n",
    "\n",
    "# Link phases and variables\n",
    "prob.link_phases()\n",
    "\n",
    "# adds an optimizer to the driver\n",
    "prob.add_driver(optimizer, max_iter=max_iter)\n",
    "\n",
    "# adds relevant design variables\n",
    "prob.add_design_variables()\n",
    "\n",
    "# Load optimization problem formulation\n",
    "# Detail which variables the optimizer can control\n",
    "prob.add_objective(objective_type=objective_type)\n",
    "\n",
    "# setup the problem\n",
    "prob.setup()\n",
    "\n",
    "# set initial guesses of states and controls variables\n",
    "prob.set_initial_guesses()\n",
    "\n",
    "# run the problem we just set up\n",
    "prob.run_aviary_problem(record_filename, restart_filename=restart_filename)"
   ]
  },
  {
   "cell_type": "markdown",
   "id": "96066213",
   "metadata": {},
   "source": [
    "In this code, you do the same import as `methods_for_level1.py` does and set the values of all the arguments in `run_aviary()`. Now we will go through each line in detail to explain each step:\n",
    "\n",
    "## Dissection of level 2 for the same `aircraft_for_bench_GwGm` model\n",
    "\n",
    "All the methods of `prob` object (including its creation) are defined in level 3 (`methods_for_level2.py`). We now look at each of them.\n",
    "\n",
    "We add other inputs that `run_aviary()` requires:"
   ]
  },
  {
   "cell_type": "code",
   "execution_count": null,
   "id": "b0baac27",
   "metadata": {},
   "outputs": [],
   "source": [
    "aircraft_filename = \"models/test_aircraft/aircraft_for_bench_GwGm.csv\"\n",
    "optimizer = \"IPOPT\"\n",
    "analysis_scheme = av.AnalysisScheme.COLLOCATION\n",
    "objective_type = None\n",
    "record_filename = 'aviary_history.db'\n",
    "restart_filename = None\n",
    "max_iter = 1\n",
    "\n",
    "prob = av.AviaryProblem(analysis_scheme)"
   ]
  },
  {
   "cell_type": "markdown",
   "id": "7e1d5726",
   "metadata": {},
   "source": [
    "Several objects are initialized in this step:\n",
    "\n",
    "```\n",
    "self.model = om.Group()\n",
    "self.pre_mission = PreMissionGroup()\n",
    "self.post_mission = PostMissionGroup()\n",
    "self.aviary_inputs = None\n",
    "self.phase_info = phase_info\n",
    "self.traj = None\n",
    "self.analysis_scheme = analysis_scheme\n",
    "self.pre_mission_info = self.phase_info.pop('pre_mission')\n",
    "self.post_mission_info = self.phase_info.pop('post_mission')\n",
    "```\n",
    "\n",
    "`phase_info` is a user defined dictionary (in a Python file) that controls the profile of the mission to be simulated (e.g. climb, cruise, descent segments etc).\n",
    "\n",
    "For `analysis_scheme`, the two options are: `AnalysisScheme.COLLOCATION` (default) and `AnalysisScheme.SHOOTING` which are defined and described in [variables_info/enums.py`](https://github.com/OpenMDAO/Aviary/blob/main/aviary/variable_info/enums.py):\n",
    "- COLLOCATION uses the collocation method to optimize all points simultaneously.\n",
    "- SHOOTING is a forward in time integration method that simulates the trajectory.\n",
    "\n",
    "In this onboarding document, only the `COLLOCATION` scheme will be discussed. The line"
   ]
  },
  {
   "cell_type": "code",
   "execution_count": null,
   "id": "8cac423c",
   "metadata": {},
   "outputs": [],
   "source": [
    "phase_info = deepcopy(av.default_2DOF_phase_info)\n",
    "prob.load_inputs(aircraft_filename, phase_info)"
   ]
  },
  {
   "cell_type": "markdown",
   "id": "42a2ee97",
   "metadata": {},
   "source": [
    "is a function that has a few tasks:\n",
    "\n",
    "- Read aircraft deck file `aircraft_filename`\n",
    "- Read phase info file `phase_info`\n",
    "- Build core subsystems\n",
    "\n",
    "We have seen `aircraft_filename` file (a `.csv` file) in our level 1 examples. In [level 1](onboarding_level1), we simply called it input file. An aircraft model can also be directly defined in Python, by setting up an `AviaryValues` object with the desired inputs and options normally found in an input file. That object can be provided in the place of `aircraft_filename`.\n",
    "\n",
    "\n",
    "Engines are built by using `aircraft:engine:data_file` in the .csv file. For example in `aircraft_for_bench_GwGm.csv` file, we see:\n",
    "\n",
    "```\n",
    "aircraft:engine:data_file,models/engines/turbofan_28k.deck,unitless\n",
    "```\n",
    "\n",
    "So, `aircraft:engine:data_file` has value `models/engines/turbofan_28k.deck,unitless`. The top rows of engine deck file are:\n",
    "\n",
    "| **Mach_Number (unitless)** | **Altitude (ft)** | **Throttle (unitless)** | **Gross_Thrust (lbf)** | **Ram_Drag (lbf)** | **Fuel_Flow (lb/h)** | **NOx_Rate (lb/h)** |\n",
    "| ---------------------- | -------------- | -------------------- | ------------------- | --------------- | --- | --- |\n",
    "| 0.0, | 0.0, | 50.0, | 28928.1, | 0.0, | 8662.3, | 61.9894 |\n",
    "| 0.0, | 0.0, | 48.0, | 26999.7, | 0.0, | 7932.6, | 49.2185 |\n",
    "| 0.0, | 0.0, | 46.0, | 25071.1, | 0.0, | 7258.1, | 33.3976 |\n",
    "| 0.0, | 0.0, | 42.0, | 21214.0, | 0.0, | 5979.1, | 19.8547 |\n",
    "| 0.0, | 0.0, | 38.0, | 17356.9, | 0.0, | 4795.2, | 17.5877 |\n",
    "\n",
    "Users can provide an `EngineModel` instance of their own to use in Aviary's propulsion systems by adding it to `engine_models`.\n",
    "\n",
    "Other subsystems, including mass, geometry, and aerodynamics, are set up according to which legacy code options the user has specified in their input file, using `settings:equations_of_motion` and `settings:mass_method`. Aerodynamics is set up to match the selected equations of motion, while geometry will use either GASP, FLOPS, or both methods as required to calculate all values needed by other subsystems.\n",
    "\n",
    "Next we check the user-provided inputs:"
   ]
  },
  {
   "cell_type": "code",
   "execution_count": null,
   "id": "e3d91612",
   "metadata": {},
   "outputs": [],
   "source": [
    "prob.check_and_preprocess_inputs()"
   ]
  },
  {
   "cell_type": "markdown",
   "id": "7f312145",
   "metadata": {},
   "source": [
    "This method checks the user-supplied input values for any potential problems. These problems include variable names that are not recognized in Aviary, conflicting options or values, or units mismatching.\n",
    "\n",
    "Next, we add pre-mission systems:"
   ]
  },
  {
   "cell_type": "code",
   "execution_count": null,
   "id": "00de09c8",
   "metadata": {},
   "outputs": [],
   "source": [
    "prob.add_pre_mission_systems()"
   ]
  },
  {
   "cell_type": "markdown",
   "id": "12d71c79",
   "metadata": {},
   "source": [
    "This call adds a pre-mission group (also called static analysis group) which includes pre-mission propulsion, geometry, pre-mission aerodynamics, and mass subsystems. \n",
    "\n",
    "For `height_energy` missions, aviary currently models FLOPS' \"simplified\" takeoff as defined in [mission/flops_based/phases/simplified_takeoff.py](https://github.com/OpenMDAO/Aviary/blob/main/aviary/mission/flops_based/phases/simplified_takeoff.py).\n",
    "\n",
    "Next is the line"
   ]
  },
  {
   "cell_type": "code",
   "execution_count": null,
   "id": "b17b6637",
   "metadata": {
    "tags": [
     "hide-output"
    ]
   },
   "outputs": [],
   "source": [
    "prob.add_phases()"
   ]
  },
  {
   "cell_type": "markdown",
   "id": "f9f50477",
   "metadata": {},
   "source": [
    "which adds a sequence of core mission phases. In addition, if `mission_method` is `2dof` and `ascent` is a phase, it adds an equality constraint to the problem to ensure that the TAS at the end of the groundroll phase is equal to the rotation velocity at the start of the rotation phase (`_add_groundroll_eq_constraint(phase)`). If `mission_method` is `height_energy`, it sets up trajectory parameters by calling `setup_trajectory_params()`. If `mission_method` is `solved`, it has a block of code to make sure that the trajectory is smooth by applying boundary constraints between phases (e.g. fuselage pitch angle or true airspeed).\n",
    "\n",
    "It follows by adding post-mission subsystems:"
   ]
  },
  {
   "cell_type": "code",
   "execution_count": null,
   "id": "af5ba774",
   "metadata": {},
   "outputs": [],
   "source": [
    "prob.add_post_mission_systems()"
   ]
  },
  {
   "cell_type": "markdown",
   "id": "0c8038df",
   "metadata": {},
   "source": [
    "Similar to pre-mission, it adds a landing phase if `include_landing` key of `post_mission` has value of `True`. If user chooses to define a `post_mission`, it will override the default. For `2dof` missions, landing is defined in [mission/gasp_based/phases/landing_group.py](https://github.com/OpenMDAO/Aviary/blob/main/aviary/mission/gasp_based/phases/landing_group.py). For `simple` mission, landing means a [simplified landing](https://github.com/OpenMDAO/Aviary/blob/main/aviary/mission/flops_based/phases/simplified_landing.py). Note that the `solved` method currently doesn't have any post mission systems.\n",
    "\n",
    "The next line is"
   ]
  },
  {
   "cell_type": "code",
   "execution_count": null,
   "id": "f765815b",
   "metadata": {},
   "outputs": [],
   "source": [
    "prob.link_phases()"
   ]
  },
  {
   "cell_type": "markdown",
   "id": "0f5006a5",
   "metadata": {},
   "source": [
    "This is important for allowing each phase of flight to pass to the next without discontinuities in the parameters. Consider Dymos' [Aircraft Balanced Field Length Calculation](https://openmdao.github.io/dymos/examples/balanced_field/balanced_field.html) example. In that example, we see separate nonlinear boundary constraints, nonlinear path constraints, and phase continuity constraints between phases. We don't want to go deeper in this function call, but just point out that each individual link can be set via dymos function `link_phases`. See [dymos API](https://openmdao.github.io/dymos/api/trajectory_api.html) for more details.\n",
    "\n",
    "The code blocks in this function (namely, `link_phases()`) are for `2DOF`, `simple`, and `solved` missions. The links are set up based on physical principals (e.g. you can’t have instantaneous changes in mass, velocity, position etc.). Special care is required if the user selects a different or unusual set of phases. \n",
    "\n",
    "Now, our aircraft and the mission are fully defined. We are ready to define an optimization problem. This is achieved by adding an optimization driver, adding design variables, and an objective. \n",
    "\n",
    "For `add_driver` function, we accept `use_coloring=None`. Coloring is a technique that OpenMDAO uses to compute partial derivatives efficiently. This will become important later."
   ]
  },
  {
   "cell_type": "code",
   "execution_count": null,
   "id": "87e863bc",
   "metadata": {},
   "outputs": [],
   "source": [
    "prob.add_driver(optimizer, max_iter=max_iter)"
   ]
  },
  {
   "cell_type": "markdown",
   "id": "1cd6d86a",
   "metadata": {},
   "source": [
    "Drivers available for use in Aviary are `SLSQP`, `SNOPT`, and `IPOPT`. The table below summarizes the basic setting along with sample values (the settings are options required by each optimizer):\n",
    "\n",
    "| **Optimizers** | **Drivers** | **Settings** |\n",
    "| ---------- | ------- | -------- |\n",
    "| `SNOPT` | om.pyOptSparseDriver() | `Major iterations limit`: 50<BR/>`Major optimality tolerance`: 1e-4<BR/>`Major feasibility tolerance`: 1e-6<BR/>`iSumm`: 6 |\n",
    "| `IPOPT` | om.pyOptSparseDriver() | `tol`: 1e-9<BR/>`mu_init`: 1e-5<BR/>`max_iter`: 50<BR/>`print_level`: 5 |\n",
    "| `SLSQP` | om.ScipyOptimizeDriver() | `tol`: 1.0E-9<BR/>`maxiter`: 50<BR/>`disp`: True |\n",
    "\n",
    "Note that `SLSQP` is freely available, but its performance is not as good as `SNOPT` and `IPOPT` sometimes. `SNOPT` is a commercial optimizer, but it is free for academic use. `IPOPT` is an open-source optimizer and it is free for all users.\n",
    "\n",
    "Design variables (and constraints) are set in the line `prob.add_design_variables()`:"
   ]
  },
  {
   "cell_type": "code",
   "execution_count": null,
   "id": "0a408e2e",
   "metadata": {},
   "outputs": [],
   "source": [
    "prob.add_design_variables()"
   ]
  },
  {
   "cell_type": "markdown",
   "id": "5dfe75ac",
   "metadata": {},
   "source": [
    "For default `FLOPS` mission model, it is relatively simple:\n",
    "\n",
    "| **Design Variables** | **Lower Bound** | **Upper Bound** | **Reference Value** | **Units** |\n",
    "| ----------- | ----------- | ----------- | --------------- | ----- |\n",
    "| Mission.Design.GROSS_MASS | 100.e3 | 200.e3 | 135.e3 | lbm |\n",
    "\n",
    "For default `GASP` mission model, the design variables and constraints depend on the type of problems (`SIZING`, `ALTERNATE`, or `FALLOUT`, see `ProblemType` class in `aviary/variable_info/enums.py` for details). First, there are four common design variables and two common constraints. There are two more design variables and two constraints for sizing problem.\n",
    "\n",
    "| **Problem Type** | **Design Variables** | **Lower Bound** | **Upper Bound** | **Reference** Value | Units |\n",
    "| ----------- | ----------- | ----------- | ----------- | --------------- | ----- |\n",
    "| Any | Mission.Takeoff.ASCENT_T_INITIAL | 0 | 100  | 30.0 | s |\n",
    "| Any | Mission.Takeoff.ASCENT_DURATION  | 1 | 1000 | 10.0 | s |\n",
    "| Any | tau_gear  | 0.01 | 1.0 | 1 | s |\n",
    "| Any | tau_flaps | 0.01 | 1.0 | 1 | s |\n",
    "| SIZING | Mission.Design.GROSS_MASS | 10. | 400.e3 | 175_000 | lbm |\n",
    "| SIZING | Mission.Summary.GROSS_MASS | 10. | 400.e3 | 175_000 | lbm |\n",
    "| ALTERNATE | Mission.Summary.GROSS_MASS | 0 | infinite | 175_000 | lbm |\n",
    "| **Problem Type** | **Constraint** | **Relation** | **Value** | **Reference Value** | **Units** |\n",
    "| Any | h_fit.h_init_gear | = | 50.0  | 50.0 | ft |\n",
    "| Any | h_fit.h_init_flaps | = | 400.0 | 400.0 | ft |\n",
    "| SIZING | Mission.Constraints.RANGE_RESIDUAL | = | 0 | 10 | unitless |\n",
    "| ALTERNATE | Mission.Constraints.RANGE_RESIDUAL | = | 0 | 10 | lbm |\n",
    "\n",
    "In the above table, there are two hard-coded design variables: `tau_gear` and `tau_flaps`. They represent fractions of ascent time to start gear retraction and flaps retraction. There are two hard-coded constraints: `h_fit.h_init_gear` and `h_fit.h_init_flaps`. They are the altitudes of initial gear retraction and initial flaps retraction. The underscore in number \"175_000\" is for readability only. \n",
    "\n",
    "There are other constraints using OpenMDAO's `EQConstraintComp` component. We will not go into the details as this part is complicated and needs special attention. Note that each subsystem (for example engine model) might have their own design variables (think, for example, sizing the engine). Aviary goes through all subsystems and adds appropriate design variables.\n",
    "\n",
    "You can override all the functions in level 3. So, you can set up your constraints in level 3 if the above ones do not meet your requirements.\n",
    "\n",
    "The optimization objective is added to the problem by this line:"
   ]
  },
  {
   "cell_type": "code",
   "execution_count": null,
   "id": "46eee283",
   "metadata": {},
   "outputs": [],
   "source": [
    "prob.add_objective(objective_type=objective_type)"
   ]
  },
  {
   "cell_type": "markdown",
   "id": "f7a233ac",
   "metadata": {},
   "source": [
    "The selection of objective is a little complicated. \n",
    "\n",
    "Earlier in this page, we have discussed the objective when `objective_type=None` and `mission_method` is `2DOF`. Let us discuss the other situations.\n",
    "\n",
    "There are several objective types that users can choose: `mass`, `hybrid_objective`, `fuel_burned`, and `fuel`. \n",
    "\n",
    "| objective_type | objective |\n",
    "| -------------- | --------- |\n",
    "| mass | `Dynamic.Mission.MASS` |\n",
    "| hybrid_objective | `-final_mass / {takeoff_mass} + final_time / 5.` |\n",
    "| fuel_burned | `initial_mass - mass_final` (for `FLOPS` mission only)|\n",
    "| fuel | `Mission.Objectives.FUEL` |\n",
    "\n",
    "As listed in the above, if `objective_type=\"mass\"`, the objective is the final value of `Dynamic.Mission.MASS` at the end of the mission.\n",
    "If `objective_type=\"fuel\"`, the objective is the `Mission.Objectives.FUEL`.\n",
    "There is a special objective type: `hybrid_objective`. When `objective_type=\"hybrid_objective\"`, the objective is a mix of minimizing fuel burn and minimizing the mission duration:\n",
    "\n",
    "```\n",
    "      obj = -final_mass / {takeoff_mass} + final_time / 5.\n",
    "```\n",
    "This is because if we just minimized fuel burn then the optimizer would probably fly the plane slowly to save fuel, but we actually care about some mix of minimizing fuel burn while providing a reasonable travel time for the passengers. This leads to the `hybrid_objective` which seeks to minimize a combination of those two objectives. `final_time` is the duration of the full mission and is usually in the range of hours. So, the denominator `5.` means `5 hours`. That's just a value to scale the final_time variable. Since it's a composite objective we didn't want to have OpenMDAO do the scaling because the two variables in the objective are of a different order of magnitude. We will show an example of this objective type in level 2 discussion.\n",
    "\n",
    "If `objective_type=None` for a `2DOF` mission, Aviary will choose the objective based on `mission_method` and `problem_type`. We have discussed this case earlier in this page.\n",
    "\n",
    "If `objective_type=None` for a `FLOPS` mission method, Aviary adds a `fuel_burned` objective. In fact, this objective is available for `FLOPS` mission only. That number you get is for the actual fuel burned in lbm. You may get something like `fuel_burned` with the scaled value `[3.91228276]`, reference value `1e+04`. It translates to the dimensional physical quantity of `39,122.8276` lbm. To see this in action, check the resulting `reports/opt_report.html` file to see the optimal results.\n",
    "\n",
    "**Note:**  Aviary variable `Mission.Objectives.FUEL` when using the GASP-based mission is actually a hybrid objective defined as\n",
    "\n",
    "```\n",
    "      reg_objective = overall_fuel/10000 + ascent_duration/30.\n",
    "```\n",
    "where `overall_fuel` has the unit of `lbm` and `ascent_duration` has the unit of seconds. In our case, `settings:equations_of_motion = 2DOF`, the final value of objective is `[5.5910123]`, with `ref: 1.0` and `units: blank`. The units should be interpreted as `unitless`.\n",
    "\n",
    "Here, `ref` is the reference value. For different objectives, the range may vary significantly different. We want to normalize the value. Ideally, users should choose `ref` such that the objective is in the range of `(0,1)`. This is required by optimizer.\n",
    "\n",
    "**Note:**  Unfortunately, not all `objective_type` and `mission_method` combinations work.\n",
    "\n",
    "Next is a line to call"
   ]
  },
  {
   "cell_type": "code",
   "execution_count": null,
   "id": "dbfca715",
   "metadata": {},
   "outputs": [],
   "source": [
    "prob.setup()"
   ]
  },
  {
   "cell_type": "markdown",
   "id": "40b9cfea",
   "metadata": {},
   "source": [
    "This is a lightly wrapped OpenMDAO `setup()` method for the problem. It allows us to do `pre-` and `post-setup` changes, like adding calls to `set_input_defaults` and do some simple `set_vals` if needed. \n",
    "\n",
    "If we look at the signature of `setup()` in OpenMDAO's [Problem](https://openmdao.org/newdocs/versions/latest/_srcdocs/packages/core/problem.html) class, we find that the available kwargs are: `check`, `logger`, `mode`, `force_alloc_complex`, `distributed_vector_class`, `local_vector_class`, and `derivatives`. The ones that Aviary uses are `check` and `force_alloc_complex`. Argument `check` is a flag to determine default checks are performed. [Default checks](https://openmdao.org/newdocs/versions/latest/theory_manual/setup_stack.html) are: 'auto_ivc_warnings', comp_has_no_outputs', 'dup_inputs', 'missing_recorders', 'out_of_order', 'solvers', 'system', 'unserializable_options'.\n",
    "\n",
    "If [force_alloc_complex](https://openmdao.org/newdocs/versions/latest/advanced_user_guide/complex_step.html) is true, sufficient memory will be allocated to allow nonlinear vectors to store complex values while operating under complex step. For our example, we don't use any of them.\n",
    "\n",
    "For optimization problems, initial guesses are important."
   ]
  },
  {
   "cell_type": "code",
   "execution_count": null,
   "id": "afdf6203",
   "metadata": {},
   "outputs": [],
   "source": [
    "prob.set_initial_guesses()"
   ]
  },
  {
   "cell_type": "markdown",
   "id": "57986647",
   "metadata": {},
   "source": [
    "For `simple` and `2DOF` missions, this method performs several calls to `set_val` on the trajectory for states and controls to seed the problem with reasonable initial guesses using `initial_guesses` within corresponding phases (e.g. `default_flops_phases.py` and `default_gasp_phases.py`). For `solved` missions, it performs similar tasks but for hard-coded state parameters. This is reasonable because a `solved` mission is actually a level 3 Aviary approach. We will cover it in [level 3 onboarding doc](onboarding_level3.ipynb) in the next page. Note that initial guesses for all phases are especially important for collocation methods.\n",
    "\n",
    "The last line is to run the problem we just set up:"
   ]
  },
  {
   "cell_type": "code",
   "execution_count": null,
   "id": "2f1a2b82",
   "metadata": {},
   "outputs": [],
   "source": [
    "prob.run_aviary_problem()"
   ]
  },
  {
   "cell_type": "markdown",
   "id": "107f7407",
   "metadata": {},
   "source": [
    "This is a simple wrapper of Dymos' [run_problem()](https://openmdao.github.io/dymos/api/run_problem_function.html) function. It allows the users to provide `record_filename`, `restart_filename`, `suppress_solver_print`, and `run_driver`. In our case, `record_filename` is changed to `aviary_history.db` and `restart_filename` is set to `None`. The rest of the arguments take default values. If a restart file name is provided, aviary (or dymos) will load the states, controls, and parameters as given in the provided case as the initial guess for the next run. We have discussed the `.db` file in [level 1 onboarding doc](onboarding_level1.ipynb) and will discuss how to use it to generate useful output in [level 3 onboarding doc](onboarding_level3.ipynb).\n",
    "\n",
    "Finally, we can add a few print statements for the variables that we are interested:\n"
   ]
  },
  {
   "cell_type": "code",
   "execution_count": null,
   "id": "cb152e48",
   "metadata": {},
   "outputs": [],
   "source": [
    "print(\"Zero Fuel Mass (lbm)\",\n",
    "      prob.get_val(Aircraft.Design.ZERO_FUEL_MASS, units='lbm'))\n",
    "print(\"Mission.Objectives.FUEL\",\n",
    "      prob.get_val(Mission.Objectives.FUEL, units='unitless'))\n",
    "print(\"Mission.Design.FUEL_MASS\",\n",
    "      prob.get_val(Mission.Design.FUEL_MASS, units='lbm'))\n",
    "print(\"Mission.Design.FUEL_MASS_REQUIRED\",\n",
    "      prob.get_val(Mission.Design.FUEL_MASS_REQUIRED, units='lbm'))\n",
    "print(\"Mission.Summary.TOTAL_FUEL_MASS\",\n",
    "      prob.get_val(Mission.Summary.TOTAL_FUEL_MASS, units='lbm'))\n",
    "print(\"Mission.Summary.GROSS_MASS (takeoff_mass)\",\n",
    "      prob.get_val(Mission.Summary.GROSS_MASS, units='lbm'))\n",
    "print(\"Mission.Landing.TOUCHDOWN_MASS (final_mass)\",\n",
    "      prob.get_val(Mission.Landing.TOUCHDOWN_MASS, units='lbm'))\n",
    "print()\n",
    "\n",
    "print(\"Groundroll Final Mass (lbm)\",\n",
    "      prob.get_val('traj.phases.groundroll.states:mass', units='lbm')[-1])\n",
    "print(\"Rotation Final Mass (lbm)\",\n",
    "      prob.get_val('traj.rotation.states:mass', units='lbm')[-1])\n",
    "print(\"Ascent Final Mass (lbm)\",\n",
    "      prob.get_val('traj.ascent.states:mass', units='lbm')[-1])\n",
    "print(\"Accel Final Mass (lbm)\",\n",
    "      prob.get_val('traj.accel.states:mass', units='lbm')[-1])\n",
    "print(\"Climb1 Final Mass (lbm)\",\n",
    "      prob.get_val('traj.climb1.states:mass', units='lbm')[-1])\n",
    "print(\"Climb2 Final Mass (lbm)\",\n",
    "      prob.get_val('traj.climb2.states:mass', units='lbm')[-1])\n",
    "print(\"Cruise Final Mass (lbm)\",\n",
    "      prob.get_val('traj.phases.cruise.rhs.calc_weight.mass', units='lbm')[-1])\n",
    "print(\"Desc1 Final Mass (lbm)\",\n",
    "      prob.get_val('traj.desc1.states:mass', units='lbm')[-1])\n",
    "print(\"Desc2 Final Mass (lbm)\",\n",
    "      prob.get_val('traj.desc2.states:mass', units='lbm')[-1])\n",
    "print('done')"
   ]
  },
  {
   "cell_type": "markdown",
   "id": "3fece473",
   "metadata": {},
   "source": [
    "We will cover user customized outputs in [level 3](onboarding_level3.ipynb)."
   ]
  },
  {
   "cell_type": "markdown",
   "id": "7bc55bf2",
   "metadata": {},
   "source": [
    "## Level 2: Another example\n",
    "\n",
    "We now use a similar aircraft, a large single aisle commercial transport aircraft, but with a different mass estimation and mission method. Let us run Aviary using this input deck in level 1 first."
   ]
  },
  {
   "cell_type": "code",
   "execution_count": null,
   "id": "0da2bfee",
   "metadata": {},
   "outputs": [],
   "source": [
    "!aviary run_mission models/test_aircraft/aircraft_for_bench_FwFm.csv --max_iter 0 --optimizer IPOPT"
   ]
  },
  {
   "cell_type": "markdown",
   "id": "bf021f13",
   "metadata": {},
   "source": [
    "Once again, to convert it to a level 2 model, we need to set all the arguments in level 1 manually.\n",
    "\n",
    "By running a model in level 2 directly, we have the flexibility to modify the input parameters (e.g. `phase_info`). Let us continue to make modifications and obtain a different run script shown below:"
   ]
  },
  {
   "cell_type": "code",
   "execution_count": null,
   "id": "807902e2",
   "metadata": {},
   "outputs": [],
   "source": [
    "phase_info = {\n",
    "    'pre_mission': {\n",
    "        'include_takeoff': False,\n",
    "        'optimize_mass': False,\n",
    "    },\n",
    "    'cruise': {\n",
    "        'subsystem_options': {\n",
    "            'core_aerodynamics': {'method': 'computed'}\n",
    "        },\n",
    "        'user_options': {\n",
    "            'optimize_mach': False,\n",
    "            'optimize_altitude': False,\n",
    "            'polynomial_control_order': 1,\n",
    "            'num_segments': 2,\n",
    "            'order': 3,\n",
    "            'solve_for_distance': False,\n",
    "            'initial_mach': (0.72, 'unitless'),\n",
    "            'final_mach': (0.72, 'unitless'),\n",
    "            'mach_bounds': ((0.7, 0.74), 'unitless'),\n",
    "            'initial_altitude': (35000.0, 'ft'),\n",
    "            'final_altitude': (35000.0, 'ft'),\n",
    "            'altitude_bounds': ((23000.0, 38000.0), 'ft'),\n",
    "            'throttle_enforcement': 'boundary_constraint',\n",
    "            'fix_initial': True,\n",
    "            'constrain_final': False,\n",
    "            'fix_duration': False,\n",
    "            'initial_bounds': ((0.0, 0.0), 'min'),\n",
    "            'duration_bounds': ((10., 30.), 'min'),\n",
    "        },\n",
    "        'initial_guesses': {'times': ([0, 30], 'min')},\n",
    "    },\n",
    "    'post_mission': {\n",
    "        'include_landing': False,\n",
    "    },\n",
    "}\n",
    "\n",
    "# inputs that run_aviary() requires\n",
    "aircraft_filename = \"models/test_aircraft/aircraft_for_bench_FwFm.csv\"\n",
    "mission_method = \"height_energy_energy\"\n",
    "mass_method = \"FLOPS\"\n",
    "optimizer = \"SLSQP\"\n",
    "analysis_scheme = av.AnalysisScheme.COLLOCATION\n",
    "objective_type = None\n",
    "record_filename = 'history.db'\n",
    "restart_filename = None\n",
    "\n",
    "# Build problem\n",
    "prob = av.AviaryProblem(analysis_scheme)\n",
    "\n",
    "# Load aircraft and options data from user\n",
    "# Allow for user overrides here\n",
    "prob.load_inputs(aircraft_filename, phase_info)\n",
    "\n",
    "# Preprocess inputs\n",
    "prob.check_and_preprocess_inputs()\n",
    "\n",
    "prob.add_pre_mission_systems()\n",
    "\n",
    "prob.add_phases()\n",
    "\n",
    "prob.add_post_mission_systems()\n",
    "\n",
    "# Link phases and variables\n",
    "prob.link_phases()\n",
    "\n",
    "prob.add_driver(optimizer, max_iter=0)\n",
    "\n",
    "prob.add_design_variables()\n",
    "\n",
    "# Load optimization problem formulation\n",
    "# Detail which variables the optimizer can control\n",
    "prob.add_objective(objective_type=objective_type)\n",
    "\n",
    "prob.setup()\n",
    "\n",
    "prob.set_initial_guesses()\n",
    "\n",
    "prob.run_aviary_problem(record_filename)\n",
    "\n",
    "print(\"done\")\n"
   ]
  },
  {
   "cell_type": "markdown",
   "id": "105e300d",
   "metadata": {},
   "source": [
    "As you see, there is a single phase `cruise`, no takeoff, no landing. Note that we must set `include_takeoff` to `False` because Aviary internally tries to connect takeoff to climb phase which we don't provide. There should be a check to see if both takeoff and climb phase exist first. Aviary still has many things to be improved.\n",
    "\n",
    "We will see more details for what users can do in [level 3](onboarding_level3.ipynb).\n",
    "\n",
    "Level 2 is where you can integrate user-defined [external subsystems](../user_guide/subsystems.md), which is one of the main features of the Aviary tool. [Examples](../user_guide/using_external_subsystems.md) of external subsystems are: acoustics, battery modeling, etc.\n",
    "Assume that you already have an external subsystem that you want to incorporate it into your model. We show how to add external subsystems via `external_subsystems` key in `phase_info`.\n",
    "\n",
    "We will cover external subsystems in details in [Models with External Subsystems](onboarding_ext_subsystem.ipynb) page.\n"
   ]
  },
  {
   "cell_type": "markdown",
   "id": "d463da8c",
   "metadata": {},
   "source": [
    "\n",
    "### Level 2: A solved mission example\n",
    "\n",
    "Aviary provides an example of \"solved mission\" using level 2 at:\n",
    "\n",
    "```\n",
    "validation_cases/benchmark_tests/test_full_mission_solved_level3.py\n",
    "```\n",
    "using the `aircraft_for_bench_GwGm_solved.csv` input deck. It can be run using level 2 or level 3. Here we are using the level 2 API, but as we will show in [level 3](onboarding_level3) onboarding document, `solved` missions generally fall into the level 3 category. Let us look at the key differences.\n",
    "\n",
    "Note that this input file specifies `solved` instead of `2DOF` under `settings:equations_of_motion`."
   ]
  },
  {
   "cell_type": "code",
   "execution_count": null,
   "id": "8ad02f55",
   "metadata": {},
   "outputs": [],
   "source": [
    "# inputs that run_aviary() requires\n",
    "aircraft_filename = \"models/test_aircraft/aircraft_for_bench_GwGm_solved.csv\"\n",
    "optimizer = \"IPOPT\"\n",
    "analysis_scheme = av.AnalysisScheme.COLLOCATION"
   ]
  },
  {
   "cell_type": "markdown",
   "id": "aab4c294",
   "metadata": {},
   "source": [
    "Here, we are specifying an objective rather than letting Aviary to choose one:"
   ]
  },
  {
   "cell_type": "code",
   "execution_count": null,
   "id": "7481beb5",
   "metadata": {},
   "outputs": [],
   "source": [
    "objective_type = \"hybrid_objective\"\n",
    "record_filename = 'aviary_history.db'\n",
    "restart_filename = None\n",
    "max_iter = 1"
   ]
  },
  {
   "cell_type": "markdown",
   "id": "442cfc9e",
   "metadata": {},
   "source": [
    "The following block of code is normal:"
   ]
  },
  {
   "cell_type": "code",
   "execution_count": null,
   "id": "15027bcc",
   "metadata": {},
   "outputs": [],
   "source": [
    "# Build problem\n",
    "prob = av.AviaryProblem(analysis_scheme)\n",
    "\n",
    "# Load aircraft and options data from user\n",
    "# Allow for user overrides here\n",
    "prob.load_inputs(aircraft_filename, av.default_solved_phase_info)"
   ]
  },
  {
   "cell_type": "markdown",
   "id": "96198806",
   "metadata": {},
   "source": [
    "The third difference is that it alters the mission design range:"
   ]
  },
  {
   "cell_type": "code",
   "execution_count": null,
   "id": "5036d584",
   "metadata": {},
   "outputs": [],
   "source": [
    "prob.aviary_inputs.set_val(Mission.Design.RANGE, 2000.0, units=\"NM\")"
   ]
  },
  {
   "cell_type": "markdown",
   "id": "299a9a80",
   "metadata": {},
   "source": [
    "So, instead of updating entries in the vehicle deck (i.e. the `.csv` file), you can set any Aviary variables here.\n",
    "\n",
    "The rest of the code is the same:"
   ]
  },
  {
   "cell_type": "code",
   "execution_count": null,
   "id": "502d1eda",
   "metadata": {},
   "outputs": [],
   "source": [
    "# Preprocess inputs\n",
    "prob.check_and_preprocess_inputs()\n",
    "\n",
    "prob.add_pre_mission_systems()\n",
    "\n",
    "prob.add_phases()\n",
    "\n",
    "prob.add_post_mission_systems()\n",
    "\n",
    "# Link phases and variables\n",
    "prob.link_phases()\n",
    "\n",
    "prob.add_driver(optimizer, max_iter=max_iter)\n",
    "\n",
    "prob.add_design_variables()\n",
    "\n",
    "# Load optimization problem formulation\n",
    "# Detail which variables the optimizer can control\n",
    "prob.add_objective(objective_type=objective_type)\n",
    "\n",
    "prob.setup()\n",
    "\n",
    "prob.set_initial_guesses()\n",
    "\n",
    "prob.run_aviary_problem(record_filename, restart_filename=restart_filename)"
   ]
  },
  {
   "cell_type": "markdown",
   "id": "638223f0",
   "metadata": {},
   "source": [
    "## Summary\n",
    "\n",
    "As you see, level 2 is more flexible than level 1. In level 2, you can:\n",
    "- add/remove pre-defined mission phases (via `phase_info`, see example above);\n",
    "- scale design variables (via reference value in `phase_info`)\n",
    "- import additional files (e.g. `aero_data_file`);\n",
    "- set pre-defined objective (e.g. `hybrid_objective`);\n",
    "- add external subsystems (via `phase_info`);\n",
    "- set `use_coloring` (see example above).\n",
    "\n",
    "Most Aviary users should be well-served by Level 2; we have purposefully constructed it to be capable of most all use cases, even those on the forefront of research in aircraft design.\n",
    "\n",
    "That being said, there are some cases where Level 2 is not sufficient and you may need additional flexibility. We are ready to move on to [Level 3](onboarding_level3.ipynb)."
   ]
  }
 ],
 "metadata": {
  "kernelspec": {
   "display_name": "Python 3 (ipykernel)",
   "language": "python",
   "name": "python3"
  },
  "language_info": {
   "codemirror_mode": {
    "name": "ipython",
    "version": 3
   },
   "file_extension": ".py",
   "mimetype": "text/x-python",
   "name": "python",
   "nbconvert_exporter": "python",
   "pygments_lexer": "ipython3",
   "version": "3.8.17"
  }
 },
 "nbformat": 4,
 "nbformat_minor": 5
}
