{
 "cells": [
  {
   "cell_type": "markdown",
   "id": "ac9434a4",
   "metadata": {},
   "source": [
    "# Models with External Subsystems\n",
    "\n",
    "In level 2, we have given simple examples of defining external subsystems in `phase_info`. The subsystems that we gave were all dummy subsystems and are not really used in simulation. Assume you have an external subsystem and you want to use it. Let us show you how to achieve this goal."
   ]
  },
  {
   "cell_type": "markdown",
   "id": "c60ff00e",
   "metadata": {},
   "source": [
    "## Installation of Aviary examples\n",
    "\n",
    "The Aviary team has provided a few external subsystems for you to use.\n",
    "These are included in the `aviary/examples/external_subsystems` directory.\n",
    "We'll now discuss them here and show you how to use them."
   ]
  },
  {
   "cell_type": "markdown",
   "id": "2f17ec04",
   "metadata": {},
   "source": [
    "## Adding simple_weight subsystems\n",
    "\n",
    "Currently, there are a couple of examples: `battery` and `simple_weight`. Let us take a look at `simple_weight` first. As shown in this example, this is a simplified example of a component that computes a weight for the wing and horizontal tail. It does not provide realistic computations but rough estimates to `Aircraft.Wing.MASS` and `Aircraft.HorizontalTail.MASS`. When this external subsystem is added to your pre-mission phase, Aviary will compute these weights in its core subsystem as usual, but then the wing mass and tail mass values will be overridden by this external subsytem.\n",
    "\n",
    "In [level 2](onboarding_level2), we have briefly covered how to add external subsystems in `phase_info`. Alternatively, external subsystems (and any other new keys) can be added after a `phase_info` is loaded. Let us see how it works using the aircraft_for_bench_FwFm.csv model. First, we import this particular external subsystem.\n",
    "\n",
    "Then add this external subsystem to `pre_mission`.\n",
    "That is all you need to do in addition to our traditional level 2 examples. Here is the complete run script,"
   ]
  },
  {
   "cell_type": "code",
   "execution_count": null,
   "id": "527dc20b",
   "metadata": {},
   "outputs": [],
   "source": [
    "from copy import deepcopy\n",
    "from aviary.api import Aircraft\n",
    "import aviary.api as av\n",
    "\n",
    "from aviary.examples.external_subsystems.simple_weight.simple_weight_builder import WingWeightBuilder\n",
    "\n",
    "# Max iterations set to 1 to reduce runtime of example\n",
    "max_iter = 1\n",
    "phase_info = deepcopy(av.default_height_energy_phase_info)\n",
    "# Here we just add the simple weight system to only the pre-mission\n",
    "phase_info['pre_mission']['external_subsystems'] = [WingWeightBuilder(name=\"wing_external\")]\n",
    "\n",
    "prob = av.AviaryProblem()\n",
    "\n",
    "# Load aircraft and options data from user\n",
    "# Allow for user overrides here\n",
    "prob.load_inputs('models/test_aircraft/aircraft_for_bench_FwFm.csv', phase_info)\n",
    "\n",
    "# Have checks for clashing user inputs\n",
    "# Raise warnings or errors depending on how clashing the issues are\n",
    "# prob.check_and_preprocess_inputs()\n",
    "\n",
    "prob.add_pre_mission_systems()\n",
    "\n",
    "prob.add_phases()\n",
    "\n",
    "prob.add_post_mission_systems()\n",
    "\n",
    "# Link phases and variables\n",
    "prob.link_phases()\n",
    "\n",
    "prob.add_driver(\"SLSQP\", max_iter)\n",
    "\n",
    "prob.add_design_variables()\n",
    "\n",
    "prob.add_objective()\n",
    "\n",
    "prob.setup()\n",
    "\n",
    "prob.set_initial_guesses()\n",
    "\n",
    "prob.run_aviary_problem(suppress_solver_print=True)\n",
    "\n",
    "print('Engine Mass', prob.get_val(av.Aircraft.Engine.MASS))\n",
    "print('Wing Mass', prob.get_val(av.Aircraft.Wing.MASS))\n",
    "print('Horizontal Tail Mass', prob.get_val(av.Aircraft.HorizontalTail.MASS))"
   ]
  },
  {
   "cell_type": "markdown",
   "id": "3b1d3838",
   "metadata": {},
   "source": [
    "Ignore the intermediate warning messages and you see the outputs at the end.\n",
    "Since this is a `FLOPS` mission and no objective is provided, we know that the objective is `fuel_burned`.\n",
    "\n",
    "To see the outputs without external subsystem add-on, let us comment out the lines that add the wing weight builder and run the modified script:"
   ]
  },
  {
   "cell_type": "code",
   "execution_count": null,
   "id": "294128d6",
   "metadata": {},
   "outputs": [],
   "source": [
    "# # Here we just add the simple weight system to only the pre-mission\n",
    "# phase_info['pre_mission']['external_subsystems'] = [WingWeightBuilder(name=\"wing_external\")]\n",
    "\n",
    "# Max iterations set to 1 to reduce runtime of example\n",
    "max_iter = 1\n",
    "prob = av.AviaryProblem()\n",
    "\n",
    "# Load aircraft and options data from user\n",
    "# Allow for user overrides here\n",
    "prob.load_inputs('models/test_aircraft/aircraft_for_bench_FwFm.csv', av.default_height_energy_phase_info)\n",
    "\n",
    "# Have checks for clashing user inputs\n",
    "# Raise warnings or errors depending on how clashing the issues are\n",
    "# prob.check_and_preprocess_inputs()\n",
    "\n",
    "prob.add_pre_mission_systems()\n",
    "\n",
    "prob.add_phases()\n",
    "\n",
    "prob.add_post_mission_systems()\n",
    "\n",
    "# Link phases and variables\n",
    "prob.link_phases()\n",
    "\n",
    "prob.add_driver(\"SLSQP\", max_iter)\n",
    "\n",
    "prob.add_design_variables()\n",
    "\n",
    "prob.add_objective()\n",
    "\n",
    "prob.setup()\n",
    "\n",
    "prob.set_initial_guesses()\n",
    "\n",
    "prob.run_aviary_problem(suppress_solver_print=True)\n",
    "\n",
    "print('Engine Mass', prob.get_val(Aircraft.Engine.MASS))\n",
    "print('Wing Mass', prob.get_val(Aircraft.Wing.MASS))\n",
    "print('Horizontal Tail Mass', prob.get_val(Aircraft.HorizontalTail.MASS))"
   ]
  },
  {
   "cell_type": "markdown",
   "id": "7df25fe0",
   "metadata": {},
   "source": [
    "As we see, the engine mass is not altered but wing mass and tail mass are changed dramatically. This is not surprising because our `simple_weight` subsystem is quite simple. Later on, we will show you a more realistic wing weight external subsystem."
   ]
  },
  {
   "cell_type": "markdown",
   "id": "8b725a39",
   "metadata": {},
   "source": [
    "## Adding battery subsystem\n",
    "\n",
    "In the above example, there is no new Aviary variable added to Aviary and the external subsystem is added to pre-mission only. So, the subsystem is not very involved. We will see a more complicated example now. Before we move on, let us recall the steps in Aviary model building:\n",
    "\n",
    "- **init**\n",
    "- **load_inputs**\n",
    "- **check_and_preprocess_inputs**\n",
    "- **add_pre_mission_systems**\n",
    "- **add_phases**\n",
    "- **add_post_mission_systems**\n",
    "- **link_phases**\n",
    "- add_driver\n",
    "- **add_design_variables**\n",
    "- **add_objective**\n",
    "- setup\n",
    "- **set_initial_guesses**\n",
    "- run_aviary_problem\n",
    "\n",
    "The steps in bold are related specifically to subsystems. So, almost all of the steps involve subsystems. As long as your external subsystem is built based on the guidelines, Aviary will take care of your subsystem.\n",
    "\n",
    "The next example is the [battery subsystem](https://github.com/OpenMDAO/Aviary/blob/main/aviary/docs/user_guide/battery_subsystem_example.md). The battery subsystem provides methods to define the battery subsystem's states, design variables, fixed values, initial guesses, and mass names. It also provides methods to build OpenMDAO systems for the pre-mission and mission computations of the subsystem, to get the constraints for the subsystem, and to preprocess the inputs for the subsystem. This subsystem has its own set of variables. We will build an Aviary model with full phases (namely, `climb`, `cruise` and `descent`) and maximize the final total mass: `Dynamic.Mission.MASS`."
   ]
  },
  {
   "cell_type": "markdown",
   "id": "689d7dcb",
   "metadata": {},
   "source": [
    "We also need `BatteryBuilder` along with battery related aircraft variables and build a new battery object.\n",
    "Now, add our new battery subsystem into each phase including pre-mission:\n"
   ]
  },
  {
   "cell_type": "code",
   "execution_count": null,
   "id": "62013c65",
   "metadata": {},
   "outputs": [],
   "source": [
    "from aviary.examples.external_subsystems.battery.battery_builder import BatteryBuilder\n",
    "from aviary.examples.external_subsystems.battery.battery_variables import Aircraft\n",
    "\n",
    "battery_builder = BatteryBuilder(include_constraints=False)\n",
    "\n",
    "phase_info['pre_mission']['external_subsystems'] = [battery_builder]\n",
    "phase_info['climb']['external_subsystems'] = [battery_builder]\n",
    "phase_info['cruise']['external_subsystems'] = [battery_builder]\n",
    "phase_info['descent']['external_subsystems'] = [battery_builder]"
   ]
  },
  {
   "cell_type": "markdown",
   "id": "4ad934a5",
   "metadata": {},
   "source": [
    "Start an Aviary problem and load in an aircraft input deck:"
   ]
  },
  {
   "cell_type": "code",
   "execution_count": null,
   "id": "25d2ceb6",
   "metadata": {},
   "outputs": [],
   "source": [
    "prob = av.AviaryProblem()\n",
    "\n",
    "prob.load_inputs('models/test_aircraft/aircraft_for_bench_FwFm.csv', phase_info)"
   ]
  },
  {
   "cell_type": "markdown",
   "id": "96ebdf23",
   "metadata": {},
   "source": [
    "\n",
    "In the battery subsystem, the type of battery cell we use is `18650`. The option is not set in `input_file`, instead is is controlled by importing the correct battery map [here](https://github.com/OpenMDAO/om-Aviary/blob/1fca1c03cb2e1d6387442162e8d7dabf83eee197/aviary/examples/external_subsystems/battery/model/reg_thevenin_interp_group.py#L5)."
   ]
  },
  {
   "cell_type": "markdown",
   "id": "e92d14c1",
   "metadata": {},
   "source": [
    "We can then check our inputs:"
   ]
  },
  {
   "cell_type": "code",
   "execution_count": null,
   "id": "7cf0222f",
   "metadata": {},
   "outputs": [],
   "source": [
    "# Have checks for clashing user inputs\n",
    "# Raise warnings or errors depending on severity of the issues\n",
    "prob.check_and_preprocess_inputs()"
   ]
  },
  {
   "cell_type": "markdown",
   "id": "e8e14515",
   "metadata": {},
   "source": [
    "### Checking in the setup function call\n",
    "\n",
    "Function `setup` can have an argument `check` with default value `False`. If we set it to `True`, it will cause a default set of checks to be run. So, instead of a simple `prob.setup()` call, let us do the following:\n",
    "\n",
    "The following are a few check points printed on the command line:\n",
    "\n",
    "```\n",
    "INFO: checking system\n",
    "INFO: checking solvers\n",
    "INFO: checking dup_inputs\n",
    "INFO: checking missing_recorders\n",
    "```\n",
    "\n"
   ]
  },
  {
   "cell_type": "code",
   "execution_count": null,
   "id": "00ca5a1f",
   "metadata": {},
   "outputs": [],
   "source": [
    "prob.add_pre_mission_systems()\n",
    "\n",
    "traj = prob.add_phases()\n",
    "\n",
    "prob.add_post_mission_systems()\n",
    "\n",
    "# Link phases and variables\n",
    "prob.link_phases()\n",
    "\n",
    "max_iter = 1\n",
    "prob.add_driver(\"SLSQP\", max_iter)\n",
    "\n",
    "prob.add_design_variables()\n",
    "\n",
    "prob.add_objective('mass')\n",
    "\n",
    "prob.setup(check=True)\n",
    "\n",
    "prob.set_initial_guesses()\n",
    "\n",
    "prob.run_aviary_problem()\n",
    "\n",
    "# user defined outputs\n",
    "print('Battery MASS', prob.get_val(Aircraft.Battery.MASS))\n",
    "print('Cell Max', prob.get_val(Aircraft.Battery.Cell.MASS))\n",
    "masses_descent = prob.get_val('traj.descent.timeseries.states:mass', units='kg')\n",
    "print(f\"Final Descent Mass: {masses_descent[-1]}\")\n",
    "\n",
    "print('done')"
   ]
  },
  {
   "cell_type": "markdown",
   "id": "2fff1bd5",
   "metadata": {},
   "source": [
    "## More on outputs\n",
    "\n",
    "We are done with our model. For our current example, let us add a few more lines after the aviary run:"
   ]
  },
  {
   "cell_type": "code",
   "execution_count": null,
   "id": "8d376033",
   "metadata": {},
   "outputs": [],
   "source": [
    "print('Battery MASS', prob.get_val(Aircraft.Battery.MASS))\n",
    "print('Cell Max', prob.get_val(Aircraft.Battery.Cell.MASS))"
   ]
  },
  {
   "cell_type": "markdown",
   "id": "ed8c764a",
   "metadata": {},
   "source": [
    "Since our objective is `mass`, we want to print the value of `Dynamic.Mission.Mass`. Remember, we have imported Dynamic from aviary.variable_info.variables for this purpose.\n",
    "\n",
    "So, we have to print the final mass in a different way. Keep in mind that we have three phases in the mission and that final mass is our objective. So, we can get the final mass of the descent phase instead. Let us try this approach. Let us comment out the print statement of final mass (and the import of Dynamic), then add the following lines:"
   ]
  },
  {
   "cell_type": "code",
   "execution_count": null,
   "id": "eed4e9cf",
   "metadata": {},
   "outputs": [],
   "source": [
    "masses_descent = prob.get_val('traj.descent.timeseries.states:mass', units='kg')\n",
    "print(f\"Final Descent Mass: {masses_descent[-1]}\")"
   ]
  },
  {
   "cell_type": "markdown",
   "id": "a60948bc",
   "metadata": {},
   "source": [
    "## More on objectives\n",
    "\n",
    "Now, let us change our objective to battery state of charge after the climb phase. So, comment out `prob.add_objective('mass')` and add the following line right after:\n",
    "\n",
    "```\n",
    "prob.model.add_objective(\n",
    "    f'traj.climb.states:{Mission.Battery.STATE_OF_CHARGE}', index=-1, ref=-1)\n",
    "```\n",
    "\n",
    "In the above, `index=-1` means the end of climb phase and `ref=-1` means that we want to maximize the state of charge at the end of climb phase. Once again, we are unable to print battery state of charge as we did with battery mass and battery cell mass. We will use the same approach to get mass. In fact, we have prepared for this purpose by setting up time series of climb and cruise phases as well. All we need to do is to add the following lines:\n",
    "\n",
    "```\n",
    "soc_cruise = prob.get_val(\n",
    "    'traj.climb.timeseries.states:mission:battery:state_of_charge')\n",
    "print(f\"State of Charge: {soc_cruise[-1]}\")\n",
    "```\n",
    "\n",
    "Now you get a new output:\n",
    "\n",
    "```\n",
    "State of Charge: [0.97458496]"
   ]
  },
  {
   "cell_type": "markdown",
   "id": "06252511",
   "metadata": {},
   "source": [
    "## The check_partials function\n",
    "\n",
    "In order to make sure that your model computes all the derivatives correctly, OpenMDAO provides a method called `check_partials` which checks partial derivatives comprehensively for all Components in your model. Let us continue in our model:"
   ]
  },
  {
   "cell_type": "code",
   "execution_count": null,
   "id": "a33a2664",
   "metadata": {},
   "outputs": [],
   "source": [
    "prob.check_partials(compact_print=True)"
   ]
  },
  {
   "cell_type": "markdown",
   "id": "11a63365",
   "metadata": {},
   "source": [
    "## Adding an OpenAeroStruct wingbox external subsystem\n",
    "\n",
    "[OpenAeroStruct](https://github.com/mdolab/OpenAerostruct/) (OAS) is a lightweight tool that performs aerostructural optimization using OpenMDAO. This is an example that shows you how to use an existing external package with Aviary."
   ]
  },
  {
   "cell_type": "markdown",
   "id": "2962e2f1",
   "metadata": {},
   "source": [
    "### Installation of OpenAeroStruct\n",
    "\n",
    "We would like to have easy access to the examples and source code. So we install OpenAeroStruct by cloning the OpenAeroStruct repository. We show you how to do the installation on Linux. Assume you want to install it at `~/$USER/workspace`. Do the following:\n",
    "\n",
    "```\n",
    "cd ~/$USER/workspace\n",
    "git clone https://github.com/mdolab/OpenAeroStruct.git\n",
    "~/$USER/workspace/OpenAeroStruct\n",
    "pip install -e .\n",
    "```\n",
    "\n",
    "If everything runs smoothly, you should see something like:\n",
    "\n",
    "```\n",
    "Successfully installed openaerostruct\n",
    "```\n",
    "\n",
    "Most of the packages that OpenAeroStruct depends on are installed already (see [here](https://mdolab-openaerostruct.readthedocs-hosted.com/en/latest/installation.html)). For our example, we need [ambiance](https://pypi.org/project/ambiance/) and an optional package: [OpenVSP](http://openvsp.org/).\n",
    "\n",
    "To install `ambiance`, do the following:\n",
    "\n",
    "```\n",
    "pip install ambiance\n",
    "```\n",
    "\n",
    "You should see something like:\n",
    "\n",
    "```\n",
    "Installing collected packages: ambiance\n",
    "Successfully installed ambiance-1.3.1\n",
    "```\n",
    "\n",
    "```{note}\n",
    "You must ensure that the Python version in your environment matches the Python used to compile OpenVSP. You must [install OpenVSP](https://openvsp.org/wiki/doku.php?id=install) on your Linux box yourself.\n",
    "```\n",
    "\n",
    "To check your installation of OpenVSP is successful, please run\n",
    "\n",
    "```\n",
    "(av1)$ python openaerostruct/tests/test_vsp_aero_analysis.py\n",
    "```\n",
    "\n",
    "Windows users should visit [OpenVSP](http://openvsp.org/download.php) and follow the instruction there."
   ]
  },
  {
   "cell_type": "markdown",
   "id": "3eb10495",
   "metadata": {},
   "source": [
    "### Understanding the OpenAeroStruct Example\n",
    "\n",
    "The OpenAeroStruct example is explained in detail in [Using Aviary and OpenAeroStruct Together](../examples/OAS_subsystem)."
   ]
  },
  {
   "cell_type": "markdown",
   "id": "a9d285b7",
   "metadata": {},
   "source": [
    "### Running the OpenAeroStruct Example\n",
    "\n",
    "We are ready to run this example. First, we create an `OASWingWeightBuilder` instance."
   ]
  },
  {
   "cell_type": "code",
   "execution_count": null,
   "id": "1e4482ac",
   "metadata": {},
   "outputs": [],
   "source": [
    "import numpy as np\n",
    "import openmdao.api as om\n",
    "import aviary.api as av\n",
    "from aviary.examples.external_subsystems.OAS_weight.OAS_wing_weight_builder import OASWingWeightBuilder\n",
    "\n",
    "wing_weight_builder = OASWingWeightBuilder()"
   ]
  },
  {
   "cell_type": "markdown",
   "id": "3f657b61",
   "metadata": {},
   "source": [
    "Let's add a few phases in the mission. In particular, let's add the object we just created as an external subsystem to `pre_mission`.\n",
    "We are only adding to `pre_mission` here as the OpenAeroStruct design is only done in the sizing portion of pre-mission and doesn't need to be called during the mission."
   ]
  },
  {
   "cell_type": "code",
   "execution_count": null,
   "id": "d779a398",
   "metadata": {},
   "outputs": [],
   "source": [
    "# Load the phase_info and other common setup tasks\n",
    "phase_info = {\n",
    "    'climb_1': {\n",
    "        'subsystem_options': {'core_aerodynamics': {'method': 'computed'}},\n",
    "        'user_options': {\n",
    "            'optimize_mach': False,\n",
    "            'optimize_altitude': False,\n",
    "            'polynomial_control_order': 1,\n",
    "            'num_segments': 5,\n",
    "            'order': 3,\n",
    "            'solve_for_distance': False,\n",
    "            'initial_mach': (0.2, 'unitless'),\n",
    "            'final_mach': (0.72, 'unitless'),\n",
    "            'mach_bounds': ((0.18, 0.74), 'unitless'),\n",
    "            'initial_altitude': (0.0, 'ft'),\n",
    "            'final_altitude': (32000.0, 'ft'),\n",
    "            'altitude_bounds': ((0.0, 34000.0), 'ft'),\n",
    "            'throttle_enforcement': 'path_constraint',\n",
    "            'fix_initial': True,\n",
    "            'constrain_final': False,\n",
    "            'fix_duration': False,\n",
    "            'initial_bounds': ((0.0, 0.0), 'min'),\n",
    "            'duration_bounds': ((64.0, 192.0), 'min'),\n",
    "        },\n",
    "        'initial_guesses': {'times': ([0, 128], 'min')},\n",
    "    },\n",
    "    'climb_2': {\n",
    "        'subsystem_options': {'core_aerodynamics': {'method': 'computed'}},\n",
    "        'user_options': {\n",
    "            'optimize_mach': False,\n",
    "            'optimize_altitude': False,\n",
    "            'polynomial_control_order': 1,\n",
    "            'num_segments': 5,\n",
    "            'order': 3,\n",
    "            'solve_for_distance': False,\n",
    "            'initial_mach': (0.72, 'unitless'),\n",
    "            'final_mach': (0.72, 'unitless'),\n",
    "            'mach_bounds': ((0.7, 0.74), 'unitless'),\n",
    "            'initial_altitude': (32000.0, 'ft'),\n",
    "            'final_altitude': (34000.0, 'ft'),\n",
    "            'altitude_bounds': ((23000.0, 38000.0), 'ft'),\n",
    "            'throttle_enforcement': 'boundary_constraint',\n",
    "            'fix_initial': False,\n",
    "            'constrain_final': False,\n",
    "            'fix_duration': False,\n",
    "            'initial_bounds': ((64.0, 192.0), 'min'),\n",
    "            'duration_bounds': ((56.5, 169.5), 'min'),\n",
    "        },\n",
    "        'initial_guesses': {'times': ([128, 113], 'min')},\n",
    "    },\n",
    "    'descent_1': {\n",
    "        'subsystem_options': {'core_aerodynamics': {'method': 'computed'}},\n",
    "        'user_options': {\n",
    "            'optimize_mach': False,\n",
    "            'optimize_altitude': False,\n",
    "            'polynomial_control_order': 1,\n",
    "            'num_segments': 5,\n",
    "            'order': 3,\n",
    "            'solve_for_distance': False,\n",
    "            'initial_mach': (0.72, 'unitless'),\n",
    "            'final_mach': (0.36, 'unitless'),\n",
    "            'mach_bounds': ((0.34, 0.74), 'unitless'),\n",
    "            'initial_altitude': (34000.0, 'ft'),\n",
    "            'final_altitude': (500.0, 'ft'),\n",
    "            'altitude_bounds': ((0.0, 38000.0), 'ft'),\n",
    "            'throttle_enforcement': 'path_constraint',\n",
    "            'fix_initial': False,\n",
    "            'constrain_final': True,\n",
    "            'fix_duration': False,\n",
    "            'initial_bounds': ((120.5, 361.5), 'min'),\n",
    "            'duration_bounds': ((29.0, 87.0), 'min'),\n",
    "        },\n",
    "        'initial_guesses': {'times': ([241, 58], 'min')},\n",
    "    },\n",
    "    'post_mission': {\n",
    "        'include_landing': False,\n",
    "        'constrain_range': True,\n",
    "        'target_range': (1800., 'nmi'),\n",
    "    },\n",
    "}\n",
    "\n",
    "phase_info['pre_mission'] = {'include_takeoff': False, 'optimize_mass': True}\n",
    "phase_info['pre_mission']['external_subsystems'] = [wing_weight_builder]"
   ]
  },
  {
   "cell_type": "markdown",
   "id": "0f1ce46e",
   "metadata": {},
   "source": [
    "We can now create an Aviary problem, load in an aircraft input deck, and do routine input checks:"
   ]
  },
  {
   "cell_type": "code",
   "execution_count": null,
   "id": "4bef599e",
   "metadata": {},
   "outputs": [],
   "source": [
    "aircraft_definition_file = 'models/test_aircraft/aircraft_for_bench_FwFm.csv'\n",
    "make_plots = False\n",
    "max_iter = 0\n",
    "optimizer = 'SNOPT'\n",
    "\n",
    "prob = av.AviaryProblem()\n",
    "\n",
    "prob.load_inputs(aircraft_definition_file, phase_info)\n",
    "prob.check_and_preprocess_inputs()\n",
    "prob.add_pre_mission_systems()\n",
    "prob.add_phases()\n",
    "prob.add_post_mission_systems()\n",
    "prob.link_phases()"
   ]
  },
  {
   "cell_type": "markdown",
   "id": "0802ff94",
   "metadata": {},
   "source": [
    "Next we select the driver and call setup on the problem:"
   ]
  },
  {
   "cell_type": "code",
   "execution_count": null,
   "id": "b4491a9d",
   "metadata": {},
   "outputs": [],
   "source": [
    "driver = prob.driver = om.pyOptSparseDriver()\n",
    "driver.options[\"optimizer\"] = optimizer\n",
    "driver.declare_coloring()\n",
    "driver.opt_settings[\"Major iterations limit\"] = max_iter\n",
    "driver.opt_settings[\"Major optimality tolerance\"] = 1e-4\n",
    "driver.opt_settings[\"Major feasibility tolerance\"] = 1e-5\n",
    "driver.opt_settings[\"iSumm\"] = 6\n",
    "\n",
    "prob.add_design_variables()\n",
    "prob.add_objective()\n",
    "prob.setup()\n",
    "prob.set_initial_guesses()"
   ]
  },
  {
   "cell_type": "markdown",
   "id": "354d81f3",
   "metadata": {},
   "source": [
    "Now we need to set some OpenAeroStruct-specific parameters before running Aviary:"
   ]
  },
  {
   "cell_type": "code",
   "execution_count": null,
   "id": "3d83c778",
   "metadata": {},
   "outputs": [],
   "source": [
    "OAS_sys = 'pre_mission.wing_weight.aerostructures.'\n",
    "prob.set_val(OAS_sys + 'box_upper_x', np.array([0.1, 0.11, 0.12, 0.13, 0.14, 0.15, 0.16, 0.17, 0.18, 0.19, 0.2, 0.21, 0.22, 0.23, 0.24, 0.25, 0.26, 0.27, 0.28, 0.29, 0.3, 0.31, 0.32, 0.33, 0.34, 0.35, 0.36, 0.37, 0.38, 0.39, 0.4, 0.41, 0.42, 0.43, 0.44, 0.45, 0.46, 0.47, 0.48, 0.49, 0.5, 0.51, 0.52, 0.53, 0.54, 0.55, 0.56, 0.57, 0.58, 0.59, 0.6]), units='unitless')\n",
    "prob.set_val(OAS_sys + 'box_lower_x', np.array([0.1, 0.11, 0.12, 0.13, 0.14, 0.15, 0.16, 0.17, 0.18, 0.19, 0.2, 0.21, 0.22, 0.23, 0.24, 0.25, 0.26, 0.27, 0.28, 0.29, 0.3, 0.31, 0.32, 0.33, 0.34, 0.35, 0.36, 0.37, 0.38, 0.39, 0.4, 0.41, 0.42, 0.43, 0.44, 0.45, 0.46, 0.47, 0.48, 0.49, 0.5, 0.51, 0.52, 0.53, 0.54, 0.55, 0.56, 0.57, 0.58, 0.59, 0.6]), units='unitless')\n",
    "prob.set_val(OAS_sys + 'box_upper_y', np.array([ 0.0447,  0.046,  0.0472,  0.0484,  0.0495,  0.0505,  0.0514,  0.0523,  0.0531,  0.0538, 0.0545,  0.0551,  0.0557, 0.0563,  0.0568, 0.0573,  0.0577,  0.0581,  0.0585,  0.0588,  0.0591,  0.0593,  0.0595,  0.0597,  0.0599,  0.06,    0.0601,  0.0602,  0.0602,  0.0602,  0.0602,  0.0602,  0.0601,  0.06,    0.0599,  0.0598,  0.0596,  0.0594,  0.0592,  0.0589,  0.0586,  0.0583,  0.058,   0.0576,  0.0572,  0.0568,  0.0563,  0.0558,  0.0553,  0.0547,  0.0541]), units='unitless')\n",
    "prob.set_val(OAS_sys + 'box_lower_y', np.array([-0.0447, -0.046, -0.0473, -0.0485, -0.0496, -0.0506, -0.0515, -0.0524, -0.0532, -0.054, -0.0547, -0.0554, -0.056, -0.0565, -0.057, -0.0575, -0.0579, -0.0583, -0.0586, -0.0589, -0.0592, -0.0594, -0.0595, -0.0596, -0.0597, -0.0598, -0.0598, -0.0598, -0.0598, -0.0597, -0.0596, -0.0594, -0.0592, -0.0589, -0.0586, -0.0582, -0.0578, -0.0573, -0.0567, -0.0561, -0.0554, -0.0546, -0.0538, -0.0529, -0.0519, -0.0509, -0.0497, -0.0485, -0.0472, -0.0458, -0.0444]), units='unitless')\n",
    "prob.set_val(OAS_sys + 'twist_cp', np.array([-6., -6., -4., 0.]), units='deg')\n",
    "prob.set_val(OAS_sys + 'spar_thickness_cp', np.array([0.004, 0.005, 0.008, 0.01]), units='m')\n",
    "prob.set_val(OAS_sys + 'skin_thickness_cp', np.array([0.005, 0.01, 0.015, 0.025]), units='m')\n",
    "prob.set_val(OAS_sys + 't_over_c_cp', np.array([0.08, 0.08, 0.10, 0.08]), units='unitless')\n",
    "prob.set_val(OAS_sys + 'airfoil_t_over_c', 0.12, units='unitless')\n",
    "prob.set_val(OAS_sys + 'fuel', 40044.0, units='lbm')\n",
    "prob.set_val(OAS_sys + 'fuel_reserve', 3000.0, units='lbm')\n",
    "prob.set_val(OAS_sys + 'CD0', 0.0078, units='unitless')\n",
    "prob.set_val(OAS_sys + 'cruise_Mach', 0.785, units='unitless')\n",
    "prob.set_val(OAS_sys + 'cruise_altitude', 11303.682962301647, units='m')\n",
    "prob.set_val(OAS_sys + 'cruise_range', 3500, units='nmi')\n",
    "prob.set_val(OAS_sys + 'cruise_SFC', 0.53 / 3600, units='1/s')\n",
    "prob.set_val(OAS_sys + 'engine_mass', 7400, units='lbm')\n",
    "prob.set_val(OAS_sys + 'engine_location', np.array([25, -10.0, 0.0]), units='m')"
   ]
  },
  {
   "cell_type": "markdown",
   "id": "d345e83d",
   "metadata": {},
   "source": [
    "We are now ready to run Aviary on this model.\n",
    "Note that there are multiple numbers of optimization loops that are output from this run even though we have set `max_iter` to 0.\n",
    "This is because OpenAeroStruct has an optimization process internally. In order to shorten the runtime, we have set `run_driver = False`. This means that we will not run optimization but [run model](https://openmdao.org/newdocs/versions/latest/features/core_features/running_your_models/run_model.html). "
   ]
  },
  {
   "cell_type": "markdown",
   "id": "b72253c8",
   "metadata": {},
   "source": [
    "Finally, we print the newly computed wing mass:"
   ]
  },
  {
   "cell_type": "code",
   "execution_count": null,
   "id": "dbb2078f",
   "metadata": {},
   "outputs": [],
   "source": [
    "print('wing mass = ',prob.model.get_val(av.Aircraft.Wing.MASS, units='lbm'))"
   ]
  },
  {
   "cell_type": "markdown",
   "id": "c04ddce7",
   "metadata": {},
   "source": [
    "The result is comparable to the output without OpenAeroStruct external subsystem."
   ]
  }
 ],
 "metadata": {
  "kernelspec": {
   "display_name": "Python 3 (ipykernel)",
   "language": "python",
   "name": "python3"
  },
  "language_info": {
   "codemirror_mode": {
    "name": "ipython",
    "version": 3
   },
   "file_extension": ".py",
   "mimetype": "text/x-python",
   "name": "python",
   "nbconvert_exporter": "python",
   "pygments_lexer": "ipython3",
   "version": "3.8.17"
  }
 },
 "nbformat": 4,
 "nbformat_minor": 5
}
