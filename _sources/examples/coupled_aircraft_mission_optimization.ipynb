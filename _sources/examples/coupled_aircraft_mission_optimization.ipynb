{
 "cells": [
  {
   "cell_type": "markdown",
   "metadata": {},
   "source": [
    "# Coupled Aircraft-Mission Optimization\n",
    "\n",
    "One of the most exciting features of Aviary is the ability to formulate and solve coupled aircraft-mission design optimization problems.\n",
    "Here, we mean that we are finding the optimal aircraft design parameters while simultaneously finding the optimal mission trajectory.\n",
    "The reason why this is so valuable is that it enables exploration of a larger design space much more efficiently.\n",
    "\n",
    "Solving coupled design-mission problems leads to optimal designs that would not be findable without simultaneously designing the aircraft and the trajectory.\n",
    "This is especially useful for unconventional aircraft designs, operations with complex missions, and many more future-focused studies than what is commonly flying today.\n",
    "\n",
    "This doc page builds up a coupled design problem and explains what we're doing along the way.\n",
    "This process is relatively straightforward in Aviary.\n",
    "We will briefly discuss the optimal results, but that is not necessarily the focus here.\n",
    "Instead, we want to showcase how to do a simple coupled design study in Aviary.\n",
    "\n",
    "You can use this as a starting point for your own exciting aircraft and mission design studies.\n",
    "\n",
    "## Problem Definition and Explanation\n",
    "\n",
    "We will use a conventional single-aisle commercial aircraft design as our starting point.\n",
    "For all of these examples we allow the aircraft to be sized by the optimizer.\n",
    "This means the gross takeoff weight is controlled to meet a mass balance.\n",
    "\n",
    "We will perform four different optimization cases as part of this study:\n",
    "\n",
    "- fixed mission profile, fixed aircraft wing aspect ratio\n",
    "- fixed mission profile, optimized aircraft wing aspect ratio\n",
    "- optimized mission profile, fixed aircraft wing aspect ratio\n",
    "- optimized mission profile, optimized aircraft wing aspect ratio\n",
    "\n",
    "We'll provide more detail individually for each case.\n",
    "\n",
    "When we call Aviary, we will use a common `phase_info` object that we modify for each optimization case shown here:"
   ]
  },
  {
   "cell_type": "code",
   "execution_count": null,
   "metadata": {},
   "outputs": [],
   "source": [
    "phase_info = {\n",
    "    \"pre_mission\": {\"include_takeoff\": False, \"optimize_mass\": True},\n",
    "    \"climb_1\": {\n",
    "        \"subsystem_options\": {\"core_aerodynamics\": {\"method\": \"computed\"}},\n",
    "        \"user_options\": {\n",
    "            \"optimize_mach\": False,\n",
    "            \"optimize_altitude\": False,\n",
    "            \"polynomial_control_order\": 1,\n",
    "            \"num_segments\": 5,\n",
    "            \"order\": 3,\n",
    "            \"solve_for_distance\": False,\n",
    "            \"initial_mach\": (0.2, \"unitless\"),\n",
    "            \"final_mach\": (0.72, \"unitless\"),\n",
    "            \"mach_bounds\": ((0.18, 0.84), \"unitless\"),\n",
    "            \"initial_altitude\": (0.0, \"ft\"),\n",
    "            \"final_altitude\": (32500.0, \"ft\"),\n",
    "            \"altitude_bounds\": ((0.0, 33000.0), \"ft\"),\n",
    "            \"throttle_enforcement\": \"path_constraint\",\n",
    "            \"fix_initial\": True,\n",
    "            \"constrain_final\": False,\n",
    "            \"fix_duration\": False,\n",
    "            \"initial_bounds\": ((0.0, 0.0), \"min\"),\n",
    "            \"duration_bounds\": ((35.0, 105.0), \"min\"),\n",
    "        },\n",
    "        \"initial_guesses\": {\"times\": ([0, 70], \"min\")},\n",
    "    },\n",
    "    \"cruise\": {\n",
    "        \"subsystem_options\": {\"core_aerodynamics\": {\"method\": \"computed\"}},\n",
    "        \"user_options\": {\n",
    "            \"optimize_mach\": False,\n",
    "            \"optimize_altitude\": False,\n",
    "            \"polynomial_control_order\": 1,\n",
    "            \"num_segments\": 5,\n",
    "            \"order\": 3,\n",
    "            \"solve_for_distance\": False,\n",
    "            \"initial_mach\": (0.72, \"unitless\"),\n",
    "            \"final_mach\": (0.80, \"unitless\"),\n",
    "            \"mach_bounds\": ((0.7, 0.84), \"unitless\"),\n",
    "            \"initial_altitude\": (32500.0, \"ft\"),\n",
    "            \"final_altitude\": (36000.0, \"ft\"),\n",
    "            \"altitude_bounds\": ((32000.0, 36500.0), \"ft\"),\n",
    "            \"throttle_enforcement\": \"boundary_constraint\",\n",
    "            \"fix_initial\": False,\n",
    "            \"constrain_final\": False,\n",
    "            \"fix_duration\": False,\n",
    "            \"initial_bounds\": ((35.0, 105.0), \"min\"),\n",
    "            \"duration_bounds\": ((91.5, 274.5), \"min\"),\n",
    "        },\n",
    "        \"initial_guesses\": {\"times\": ([70, 183], \"min\")},\n",
    "    },\n",
    "    \"descent_1\": {\n",
    "        \"subsystem_options\": {\"core_aerodynamics\": {\"method\": \"computed\"}},\n",
    "        \"user_options\": {\n",
    "            \"optimize_mach\": False,\n",
    "            \"optimize_altitude\": False,\n",
    "            \"polynomial_control_order\": 1,\n",
    "            \"num_segments\": 5,\n",
    "            \"order\": 3,\n",
    "            \"solve_for_distance\": False,\n",
    "            \"initial_mach\": (0.72, \"unitless\"),\n",
    "            \"final_mach\": (0.21, \"unitless\"),\n",
    "            \"mach_bounds\": ((0.19, 0.84), \"unitless\"),\n",
    "            \"initial_altitude\": (36000.0, \"ft\"),\n",
    "            \"final_altitude\": (0.0, \"ft\"),\n",
    "            \"altitude_bounds\": ((0.0, 36500.0), \"ft\"),\n",
    "            \"throttle_enforcement\": \"path_constraint\",\n",
    "            \"fix_initial\": False,\n",
    "            \"constrain_final\": True,\n",
    "            \"fix_duration\": False,\n",
    "            \"initial_bounds\": ((126.5, 379.5), \"min\"),\n",
    "            \"duration_bounds\": ((25.0, 75.0), \"min\"),\n",
    "        },\n",
    "        \"initial_guesses\": {\"times\": ([253, 50], \"min\")},\n",
    "    },\n",
    "    \"post_mission\": {\n",
    "        \"include_landing\": False,\n",
    "        \"constrain_range\": True,\n",
    "        \"target_range\": (2080, \"nmi\"),\n",
    "    },\n",
    "}"
   ]
  },
  {
   "cell_type": "markdown",
   "metadata": {},
   "source": [
    "Now, let us explain each case, formulate the Aviary problem, and optimize.\n",
    "We'll discuss the results from each case and explain why they vary.\n",
    "\n",
    "## Fixed Mission Profile, Fixed Aircraft Wing Aspect Ratio\n",
    "\n",
    "First, let us run Aviary with a simple setup: fly a prescribed mission profile with an unchanged wing design.\n",
    "Here we are varying the durations of each of the phases (climb, cruise, and descent) to minimize fuel burn across the mission.\n",
    "The altitude and Mach profiles of the mission are fixed because `optimize_altitude = False` and `optimize_mach = False` for each of the phases in the `phase_info` object."
   ]
  },
  {
   "cell_type": "code",
   "execution_count": null,
   "metadata": {},
   "outputs": [],
   "source": [
    "import aviary.api as av\n",
    "\n",
    "aircraft_filename = 'models/test_aircraft/aircraft_for_bench_FwFm.csv'\n",
    "optimizer = \"IPOPT\"\n",
    "make_plots = True\n",
    "max_iter = 200\n",
    "\n",
    "prob = av.run_aviary(aircraft_filename, phase_info, optimizer=optimizer,\n",
    "                     make_plots=make_plots, max_iter=max_iter)"
   ]
  },
  {
   "cell_type": "markdown",
   "metadata": {},
   "source": [
    "Now that we've run the case successfully, let's save and print out the fuel burn value:"
   ]
  },
  {
   "cell_type": "code",
   "execution_count": null,
   "metadata": {},
   "outputs": [],
   "source": [
    "fixed_mission_fixed_wing_fuel_burn = prob.get_val('fuel_burned', units='kg')[0]\n",
    "fixed_mission_fixed_wing_aspect_ratio = prob.get_val(av.Aircraft.Wing.ASPECT_RATIO)[0]\n",
    "print('Mission fuel burn, kg:', fixed_mission_fixed_wing_fuel_burn)\n",
    "print('Aspect ratio:', fixed_mission_fixed_wing_aspect_ratio)"
   ]
  },
  {
   "cell_type": "markdown",
   "metadata": {},
   "source": [
    "## Fixed Mission Profile, Optimized Aircraft Wing Aspect Ratio\n",
    "\n",
    "Now we will use the exact same `phase_info` object but set up our Aviary problem such that the aspect ratio of the wing is a design variable.\n",
    "This means that Aviary is optimizing the wing aspect ratio while flying the same mission profile as above.\n",
    "We would expect that by varying the wing aspect ratio, Aviary could find a lower fuel burn value.\n",
    "\n",
    "```{note}\n",
    "All of the realistic design tradeoffs associated with varying the wing aspect ratio are not necessarily captured in this problem, e.g. the wing structure would need to change. We are simply using this as an example of an aircraft design variable available in Aviary.\n",
    "```\n",
    "\n",
    "When we want to add an aircraft design variable to the Aviary problem, we need to use the Level 2 interface for Aviary.\n",
    "This means we can no longer use the all-inclusive `run_aviary` function and instead need to call its constituent methods individually.\n",
    "This allows us to insert a line adding the wing aspect ratio as a design variable as shown below.\n",
    "This line is highlighted with an in-line comment."
   ]
  },
  {
   "cell_type": "code",
   "execution_count": null,
   "metadata": {},
   "outputs": [],
   "source": [
    "prob = av.AviaryProblem(av.AnalysisScheme.COLLOCATION)\n",
    "\n",
    "# Load aircraft and options data from user\n",
    "# Allow for user overrides here\n",
    "prob.load_inputs(aircraft_filename, phase_info)\n",
    "\n",
    "prob.check_and_preprocess_inputs()\n",
    "\n",
    "prob.add_pre_mission_systems()\n",
    "\n",
    "prob.add_phases()\n",
    "\n",
    "prob.add_post_mission_systems()\n",
    "\n",
    "# Link phases and variables\n",
    "prob.link_phases()\n",
    "\n",
    "prob.add_driver(optimizer, max_iter=max_iter)\n",
    "\n",
    "prob.add_design_variables()\n",
    "\n",
    "# The following line is an example of how to add a design variable for the aspect ratio of the wing\n",
    "prob.model.add_design_var(av.Aircraft.Wing.ASPECT_RATIO, lower=10., upper=14., ref=12.)\n",
    "\n",
    "# Load optimization problem formulation\n",
    "# Detail which variables the optimizer can control\n",
    "prob.add_objective()\n",
    "\n",
    "prob.setup()\n",
    "\n",
    "prob.set_initial_guesses()\n",
    "\n",
    "prob.run_aviary_problem(make_plots=make_plots)"
   ]
  },
  {
   "cell_type": "code",
   "execution_count": null,
   "metadata": {},
   "outputs": [],
   "source": [
    "fixed_mission_optimized_wing_fuel_burn = prob.get_val('fuel_burned', units='kg')[0]\n",
    "fixed_mission_optimized_wing_aspect_ratio = prob.get_val(av.Aircraft.Wing.ASPECT_RATIO)[0]\n",
    "print('Mission fuel burn, kg:', fixed_mission_optimized_wing_fuel_burn)\n",
    "print('Aspect ratio:', fixed_mission_optimized_wing_aspect_ratio)"
   ]
  },
  {
   "cell_type": "markdown",
   "metadata": {},
   "source": [
    "As expected, the optimal fuel burn value is lower for this case.\n",
    "We'll discuss this in more detail after running two more cases.\n",
    "\n",
    "## Optimized Mission Profile, Fixed Aircraft Wing Aspect Ratio\n",
    "\n",
    "We just investigated giving the optimizer flexibility with the aircraft design while not varying the mission.\n",
    "Let's now look at the results when we optimize the mission but keep the wing aspect ratio unchanged.\n",
    "\n",
    "To do this, we will allow the optimizer to control the Mach and altitude profiles by modifying the `phase_info` object:"
   ]
  },
  {
   "cell_type": "code",
   "execution_count": null,
   "metadata": {},
   "outputs": [],
   "source": [
    "phase_info['climb_1']['user_options']['optimize_mach'] = True\n",
    "phase_info['climb_1']['user_options']['optimize_altitude'] = True\n",
    "phase_info['cruise']['user_options']['optimize_mach'] = True\n",
    "phase_info['cruise']['user_options']['optimize_altitude'] = True\n",
    "phase_info['descent_1']['user_options']['optimize_mach'] = True\n",
    "phase_info['descent_1']['user_options']['optimize_altitude'] = True\n",
    "\n",
    "prob = av.run_aviary(aircraft_filename, phase_info, optimizer=optimizer,\n",
    "                     make_plots=make_plots, max_iter=max_iter)"
   ]
  },
  {
   "cell_type": "markdown",
   "metadata": {},
   "source": [
    "Now, let's see the fuel burn:"
   ]
  },
  {
   "cell_type": "code",
   "execution_count": null,
   "metadata": {},
   "outputs": [],
   "source": [
    "optimized_mission_fixed_wing_fuel_burn = prob.get_val('fuel_burned', units='kg')[0]\n",
    "optimized_mission_fixed_wing_aspect_ratio = prob.get_val(av.Aircraft.Wing.ASPECT_RATIO)[0]\n",
    "print('Mission fuel burn, kg:', optimized_mission_fixed_wing_fuel_burn)\n",
    "print('Aspect ratio:', optimized_mission_fixed_wing_aspect_ratio)"
   ]
  },
  {
   "cell_type": "markdown",
   "metadata": {},
   "source": [
    "Optimizing the mission did not have nearly as large of an impact on the fuel burn as optimizing the aspect ratio did.\n",
    "However, the fuel burn still decreased.\n",
    "Let us now look at the fully coupled case.\n",
    "\n",
    "## Optimized Mission Profile, Optimized Aircraft Wing Aspect Ratio\n",
    "\n",
    "Remember we have already modified the `phase_info` object so that the Mach and altitude profiles are optimized.\n",
    "Now we return to the Level 2 way of running the problem with the wing aspect ratio as a design variable."
   ]
  },
  {
   "cell_type": "code",
   "execution_count": null,
   "metadata": {},
   "outputs": [],
   "source": [
    "prob = av.AviaryProblem(av.AnalysisScheme.COLLOCATION)\n",
    "\n",
    "# Load aircraft and options data from user\n",
    "# Allow for user overrides here\n",
    "prob.load_inputs(aircraft_filename, phase_info)\n",
    "\n",
    "prob.check_and_preprocess_inputs()\n",
    "# Preprocess inputs\n",
    "prob.add_pre_mission_systems()\n",
    "\n",
    "prob.add_phases()\n",
    "\n",
    "prob.add_post_mission_systems()\n",
    "\n",
    "# Link phases and variables\n",
    "prob.link_phases()\n",
    "\n",
    "prob.add_driver(optimizer, max_iter=max_iter)\n",
    "\n",
    "prob.add_design_variables()\n",
    "\n",
    "# prob.model.add_design_var(av.Aircraft.Engine.SCALED_SLS_THRUST, lower=25.e3, upper=30.e3, units='lbf', ref=28.e3)\n",
    "prob.model.add_design_var(av.Aircraft.Wing.ASPECT_RATIO, lower=10., upper=14., ref=12.)\n",
    "\n",
    "# Load optimization problem formulation\n",
    "# Detail which variables the optimizer can control\n",
    "prob.add_objective()\n",
    "\n",
    "prob.setup()\n",
    "\n",
    "prob.set_initial_guesses()\n",
    "\n",
    "prob.run_aviary_problem(make_plots=make_plots)"
   ]
  },
  {
   "cell_type": "markdown",
   "metadata": {},
   "source": [
    "All right, let's check out this final case's fuel burn value:"
   ]
  },
  {
   "cell_type": "code",
   "execution_count": null,
   "metadata": {},
   "outputs": [],
   "source": [
    "optimized_mission_optimized_wing_fuel_burn = prob.get_val('fuel_burned', units='kg')[0]\n",
    "optimized_mission_optimized_wing_aspect_ratio = prob.get_val(av.Aircraft.Wing.ASPECT_RATIO)[0]\n",
    "print('Mission fuel burn, kg:', optimized_mission_optimized_wing_fuel_burn)\n",
    "print('Aspect ratio:', optimized_mission_optimized_wing_aspect_ratio)"
   ]
  },
  {
   "cell_type": "markdown",
   "metadata": {},
   "source": [
    "Cool, it's the lowest yet!\n",
    "Let's discuss these results in more detail now.\n",
    "\n",
    "## Summary and Takeaways\n",
    "\n",
    "We have showcased one of Aviary's most powerful capabilities here -- the ability to simultaneously design an aircraft and optimal trajectory.\n",
    "By building up problem complexity, we can see how optimizing different parts of the problem lead to optimization objective improvements.\n",
    "\n",
    "Here is a summary table of the results:"
   ]
  },
  {
   "cell_type": "code",
   "execution_count": null,
   "metadata": {
    "tags": [
     "hide-input"
    ]
   },
   "outputs": [],
   "source": [
    "import pandas as pd\n",
    "\n",
    "# Create a dictionary with the data\n",
    "data = {\n",
    "    'Case': ['Fixed Mission, Fixed Wing', 'Fixed Mission, Optimized Wing', 'Optimized Mission, Fixed Wing', 'Optimized Mission, Optimized Wing'],\n",
    "    'Optimize Mission': ['-', '-', '✓', '✓'],\n",
    "    'Optimize Wing': ['-', '✓', '-', '✓'],\n",
    "    'Aspect Ratio': [fixed_mission_fixed_wing_aspect_ratio, fixed_mission_optimized_wing_aspect_ratio, optimized_mission_fixed_wing_aspect_ratio, optimized_mission_optimized_wing_aspect_ratio],\n",
    "    'Fuel Burn Value': [fixed_mission_fixed_wing_fuel_burn, fixed_mission_optimized_wing_fuel_burn, optimized_mission_fixed_wing_fuel_burn, optimized_mission_optimized_wing_fuel_burn]\n",
    "}\n",
    "\n",
    "# Create a DataFrame from the dictionary\n",
    "df = pd.DataFrame(data).round(2)\n",
    "\n",
    "# Display the DataFrame\n",
    "df\n"
   ]
  },
  {
   "cell_type": "markdown",
   "metadata": {},
   "source": [
    "We see that the fully coupled case finds the lowest fuel burn value, as expected.\n",
    "In both cases where the wing aspect ratio is optimized, it moves to the higher bound.\n",
    "\n",
    "If we didn't simultaneously design the aircraft and the mission, you would have to manually iterate by first optimizing the aircraft, then the mission, then the aircraft again, etc.\n",
    "This cumbersome process is known as sequential optimization and can lead to non-optimal results for coupled systems, as detailed in Section 13.1 of the [Engineering Design Optimization textbook](https://flowlab.groups.et.byu.net/mdobook.pdf) (available for free).\n",
    "\n",
    "Aviary is unique in its ability to solve these coupled systems using efficient gradient-based optimization.\n",
    "\n",
    "This doc page contains a simple example, but the true power of coupled multidisciplinary optimization lies in solving more complex design problems.\n",
    "We hope that you can effectively use Aviary to optimally design the next generation of exciting aircraft!\n"
   ]
  }
 ],
 "metadata": {
  "celltoolbar": "Tags",
  "kernelspec": {
   "display_name": "Python 3",
   "language": "python",
   "name": "python3"
  },
  "language_info": {
   "codemirror_mode": {
    "name": "ipython",
    "version": 3
   },
   "file_extension": ".py",
   "mimetype": "text/x-python",
   "name": "python",
   "nbconvert_exporter": "python",
   "pygments_lexer": "ipython3",
   "version": "3.8.10"
  }
 },
 "nbformat": 4,
 "nbformat_minor": 2
}
